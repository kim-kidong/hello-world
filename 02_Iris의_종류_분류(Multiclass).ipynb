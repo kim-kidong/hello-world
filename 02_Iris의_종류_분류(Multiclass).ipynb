{
  "nbformat": 4,
  "nbformat_minor": 5,
  "metadata": {
    "kernelspec": {
      "display_name": "Python 3 (ipykernel)",
      "language": "python",
      "name": "python3"
    },
    "language_info": {
      "codemirror_mode": {
        "name": "ipython",
        "version": 3
      },
      "file_extension": ".py",
      "mimetype": "text/x-python",
      "name": "python",
      "nbconvert_exporter": "python",
      "pygments_lexer": "ipython3",
      "version": "3.8.10"
    },
    "colab": {
      "name": "02_Iris의 종류 분류(Multiclass).ipynb",
      "provenance": [],
      "toc_visible": true,
      "include_colab_link": true
    }
  },
  "cells": [
    {
      "cell_type": "markdown",
      "metadata": {
        "id": "view-in-github",
        "colab_type": "text"
      },
      "source": [
        "<a href=\"https://colab.research.google.com/github/kim-kidong/hello-world/blob/master/02_Iris%EC%9D%98_%EC%A2%85%EB%A5%98_%EB%B6%84%EB%A5%98(Multiclass).ipynb\" target=\"_parent\"><img src=\"https://colab.research.google.com/assets/colab-badge.svg\" alt=\"Open In Colab\"/></a>"
      ]
    },
    {
      "cell_type": "markdown",
      "metadata": {
        "id": "ef877d7a-8e21-46f8-8026-d003a247ea2f"
      },
      "source": [
        "# Iris의 종류 분류(Multiclass)\n",
        "\n",
        "이번에는 Class가 여러개인 데이터를 Logistic Regression으로 예측해 보겠습니다."
      ],
      "id": "ef877d7a-8e21-46f8-8026-d003a247ea2f"
    },
    {
      "cell_type": "code",
      "metadata": {
        "id": "e11bd4c5-4a7f-4582-a46f-89b191fb03b2"
      },
      "source": [
        "import pandas as pd\n",
        "import numpy as np\n",
        "import matplotlib.pyplot as plt\n",
        "\n",
        "\n",
        "np.random.seed(2021)"
      ],
      "id": "e11bd4c5-4a7f-4582-a46f-89b191fb03b2",
      "execution_count": null,
      "outputs": []
    },
    {
      "cell_type": "markdown",
      "metadata": {
        "id": "b65bbf73-5fcb-4f0c-8426-e0e9a777ffae"
      },
      "source": [
        "## 1. Data"
      ],
      "id": "b65bbf73-5fcb-4f0c-8426-e0e9a777ffae"
    },
    {
      "cell_type": "markdown",
      "metadata": {
        "id": "93e284ea-fe69-461b-bb39-e611fa362ef9"
      },
      "source": [
        "### 1.1 Data Load\n",
        "데이터는 `sklearn.datasets` 의 `load_iris` 함수를 이용해 받을 수 있습니다."
      ],
      "id": "93e284ea-fe69-461b-bb39-e611fa362ef9"
    },
    {
      "cell_type": "code",
      "metadata": {
        "id": "88e185b9-365b-4104-8b10-106305cf4824"
      },
      "source": [
        "from sklearn.datasets import load_iris\n",
        "\n",
        "iris = load_iris()"
      ],
      "id": "88e185b9-365b-4104-8b10-106305cf4824",
      "execution_count": null,
      "outputs": []
    },
    {
      "cell_type": "markdown",
      "metadata": {
        "id": "e8585ada-0863-4c30-a580-d5025ca692f8"
      },
      "source": [
        "데이터에서 사용되는 변수는 암술과 수술의 길이와 넓이입니다.\n",
        "- sepal length (cm)\n",
        "- sepal width (cm)\n",
        "- petal length (cm)\n",
        "- petal width (cm)"
      ],
      "id": "e8585ada-0863-4c30-a580-d5025ca692f8"
    },
    {
      "cell_type": "code",
      "metadata": {
        "colab": {
          "base_uri": "https://localhost:8080/"
        },
        "id": "91c9880f-e6ea-4826-9464-e8fa4df30868",
        "outputId": "1dad7b31-f9b4-40e3-abfe-19925c379046"
      },
      "source": [
        "iris[\"feature_names\"]"
      ],
      "id": "91c9880f-e6ea-4826-9464-e8fa4df30868",
      "execution_count": null,
      "outputs": [
        {
          "output_type": "execute_result",
          "data": {
            "text/plain": [
              "['sepal length (cm)',\n",
              " 'sepal width (cm)',\n",
              " 'petal length (cm)',\n",
              " 'petal width (cm)']"
            ]
          },
          "metadata": {},
          "execution_count": 3
        }
      ]
    },
    {
      "cell_type": "markdown",
      "metadata": {
        "id": "28fba53e-2a86-4455-a12c-966116032d92"
      },
      "source": [
        "정답은 iris 꽃의 종류입니다."
      ],
      "id": "28fba53e-2a86-4455-a12c-966116032d92"
    },
    {
      "cell_type": "code",
      "metadata": {
        "colab": {
          "base_uri": "https://localhost:8080/"
        },
        "id": "7cf7fb92-4439-4394-9890-fc7278de03b5",
        "outputId": "3147dfe7-67be-40c6-b159-c2a07196fefd"
      },
      "source": [
        "iris[\"target_names\"]"
      ],
      "id": "7cf7fb92-4439-4394-9890-fc7278de03b5",
      "execution_count": null,
      "outputs": [
        {
          "output_type": "execute_result",
          "data": {
            "text/plain": [
              "array(['setosa', 'versicolor', 'virginica'], dtype='<U10')"
            ]
          },
          "metadata": {},
          "execution_count": 4
        }
      ]
    },
    {
      "cell_type": "code",
      "metadata": {
        "id": "e86b9402-ac9e-4700-99d3-fb97ee145dfb"
      },
      "source": [
        "data, target = iris[\"data\"], iris[\"target\"]"
      ],
      "id": "e86b9402-ac9e-4700-99d3-fb97ee145dfb",
      "execution_count": null,
      "outputs": []
    },
    {
      "cell_type": "code",
      "metadata": {
        "colab": {
          "base_uri": "https://localhost:8080/"
        },
        "id": "KeDKLfNtHdW2",
        "outputId": "70e9596e-1330-48bc-b73e-7153218083cf"
      },
      "source": [
        "target"
      ],
      "id": "KeDKLfNtHdW2",
      "execution_count": null,
      "outputs": [
        {
          "output_type": "execute_result",
          "data": {
            "text/plain": [
              "array([0, 0, 0, 0, 0, 0, 0, 0, 0, 0, 0, 0, 0, 0, 0, 0, 0, 0, 0, 0, 0, 0,\n",
              "       0, 0, 0, 0, 0, 0, 0, 0, 0, 0, 0, 0, 0, 0, 0, 0, 0, 0, 0, 0, 0, 0,\n",
              "       0, 0, 0, 0, 0, 0, 1, 1, 1, 1, 1, 1, 1, 1, 1, 1, 1, 1, 1, 1, 1, 1,\n",
              "       1, 1, 1, 1, 1, 1, 1, 1, 1, 1, 1, 1, 1, 1, 1, 1, 1, 1, 1, 1, 1, 1,\n",
              "       1, 1, 1, 1, 1, 1, 1, 1, 1, 1, 1, 1, 2, 2, 2, 2, 2, 2, 2, 2, 2, 2,\n",
              "       2, 2, 2, 2, 2, 2, 2, 2, 2, 2, 2, 2, 2, 2, 2, 2, 2, 2, 2, 2, 2, 2,\n",
              "       2, 2, 2, 2, 2, 2, 2, 2, 2, 2, 2, 2, 2, 2, 2, 2, 2, 2])"
            ]
          },
          "metadata": {},
          "execution_count": 6
        }
      ]
    },
    {
      "cell_type": "markdown",
      "metadata": {
        "id": "5621c6a4-28e4-4807-b03c-7f5b69edf718"
      },
      "source": [
        "### 1.2 데이터 EDA"
      ],
      "id": "5621c6a4-28e4-4807-b03c-7f5b69edf718"
    },
    {
      "cell_type": "markdown",
      "metadata": {
        "id": "296d958d-17fa-4f34-b45d-cf862429470a"
      },
      "source": [
        "데이터의 분포를 확인하면 다음과 같습니다."
      ],
      "id": "296d958d-17fa-4f34-b45d-cf862429470a"
    },
    {
      "cell_type": "code",
      "metadata": {
        "colab": {
          "base_uri": "https://localhost:8080/",
          "height": 297
        },
        "id": "378a2be0-57e8-4d36-a11f-a38a3b31c946",
        "outputId": "a6ab4073-8999-47b6-e18e-ce8cb2c414bf"
      },
      "source": [
        "pd.DataFrame(data, columns=iris[\"feature_names\"]).describe()"
      ],
      "id": "378a2be0-57e8-4d36-a11f-a38a3b31c946",
      "execution_count": null,
      "outputs": [
        {
          "output_type": "execute_result",
          "data": {
            "text/html": [
              "<div>\n",
              "<style scoped>\n",
              "    .dataframe tbody tr th:only-of-type {\n",
              "        vertical-align: middle;\n",
              "    }\n",
              "\n",
              "    .dataframe tbody tr th {\n",
              "        vertical-align: top;\n",
              "    }\n",
              "\n",
              "    .dataframe thead th {\n",
              "        text-align: right;\n",
              "    }\n",
              "</style>\n",
              "<table border=\"1\" class=\"dataframe\">\n",
              "  <thead>\n",
              "    <tr style=\"text-align: right;\">\n",
              "      <th></th>\n",
              "      <th>sepal length (cm)</th>\n",
              "      <th>sepal width (cm)</th>\n",
              "      <th>petal length (cm)</th>\n",
              "      <th>petal width (cm)</th>\n",
              "    </tr>\n",
              "  </thead>\n",
              "  <tbody>\n",
              "    <tr>\n",
              "      <th>count</th>\n",
              "      <td>150.000000</td>\n",
              "      <td>150.000000</td>\n",
              "      <td>150.000000</td>\n",
              "      <td>150.000000</td>\n",
              "    </tr>\n",
              "    <tr>\n",
              "      <th>mean</th>\n",
              "      <td>5.843333</td>\n",
              "      <td>3.057333</td>\n",
              "      <td>3.758000</td>\n",
              "      <td>1.199333</td>\n",
              "    </tr>\n",
              "    <tr>\n",
              "      <th>std</th>\n",
              "      <td>0.828066</td>\n",
              "      <td>0.435866</td>\n",
              "      <td>1.765298</td>\n",
              "      <td>0.762238</td>\n",
              "    </tr>\n",
              "    <tr>\n",
              "      <th>min</th>\n",
              "      <td>4.300000</td>\n",
              "      <td>2.000000</td>\n",
              "      <td>1.000000</td>\n",
              "      <td>0.100000</td>\n",
              "    </tr>\n",
              "    <tr>\n",
              "      <th>25%</th>\n",
              "      <td>5.100000</td>\n",
              "      <td>2.800000</td>\n",
              "      <td>1.600000</td>\n",
              "      <td>0.300000</td>\n",
              "    </tr>\n",
              "    <tr>\n",
              "      <th>50%</th>\n",
              "      <td>5.800000</td>\n",
              "      <td>3.000000</td>\n",
              "      <td>4.350000</td>\n",
              "      <td>1.300000</td>\n",
              "    </tr>\n",
              "    <tr>\n",
              "      <th>75%</th>\n",
              "      <td>6.400000</td>\n",
              "      <td>3.300000</td>\n",
              "      <td>5.100000</td>\n",
              "      <td>1.800000</td>\n",
              "    </tr>\n",
              "    <tr>\n",
              "      <th>max</th>\n",
              "      <td>7.900000</td>\n",
              "      <td>4.400000</td>\n",
              "      <td>6.900000</td>\n",
              "      <td>2.500000</td>\n",
              "    </tr>\n",
              "  </tbody>\n",
              "</table>\n",
              "</div>"
            ],
            "text/plain": [
              "       sepal length (cm)  sepal width (cm)  petal length (cm)  petal width (cm)\n",
              "count         150.000000        150.000000         150.000000        150.000000\n",
              "mean            5.843333          3.057333           3.758000          1.199333\n",
              "std             0.828066          0.435866           1.765298          0.762238\n",
              "min             4.300000          2.000000           1.000000          0.100000\n",
              "25%             5.100000          2.800000           1.600000          0.300000\n",
              "50%             5.800000          3.000000           4.350000          1.300000\n",
              "75%             6.400000          3.300000           5.100000          1.800000\n",
              "max             7.900000          4.400000           6.900000          2.500000"
            ]
          },
          "metadata": {},
          "execution_count": 7
        }
      ]
    },
    {
      "cell_type": "markdown",
      "metadata": {
        "id": "f261ef52-ea94-44d4-9e91-c3844b224f53"
      },
      "source": [
        "정답의 종류별 개수는 다음과 같습니다."
      ],
      "id": "f261ef52-ea94-44d4-9e91-c3844b224f53"
    },
    {
      "cell_type": "code",
      "metadata": {
        "colab": {
          "base_uri": "https://localhost:8080/"
        },
        "id": "68d216ff-952f-4875-b2e9-bdda34348485",
        "outputId": "a516b5e0-2d4e-4b4b-c811-30846e68e1e9"
      },
      "source": [
        "pd.Series(target).value_counts()"
      ],
      "id": "68d216ff-952f-4875-b2e9-bdda34348485",
      "execution_count": null,
      "outputs": [
        {
          "output_type": "execute_result",
          "data": {
            "text/plain": [
              "2    50\n",
              "1    50\n",
              "0    50\n",
              "dtype: int64"
            ]
          },
          "metadata": {},
          "execution_count": 8
        }
      ]
    },
    {
      "cell_type": "markdown",
      "metadata": {
        "id": "3c11e450-f46c-4144-b014-b9cbef255d41"
      },
      "source": [
        "### 1.3 Data Split"
      ],
      "id": "3c11e450-f46c-4144-b014-b9cbef255d41"
    },
    {
      "cell_type": "markdown",
      "metadata": {
        "id": "ab5966cb-46c1-45e7-b384-9416afab3097"
      },
      "source": [
        "데이터를 train과 test로 나누겠습니다."
      ],
      "id": "ab5966cb-46c1-45e7-b384-9416afab3097"
    },
    {
      "cell_type": "code",
      "metadata": {
        "id": "3a6e1c37-d102-4c1f-90cd-1581d7bced87"
      },
      "source": [
        "from sklearn.model_selection import train_test_split\n",
        "\n",
        "\n",
        "train_data, test_data, train_target, test_target = train_test_split(\n",
        "    data, target, train_size=0.7, random_state=2021\n",
        ")"
      ],
      "id": "3a6e1c37-d102-4c1f-90cd-1581d7bced87",
      "execution_count": null,
      "outputs": []
    },
    {
      "cell_type": "code",
      "metadata": {
        "colab": {
          "base_uri": "https://localhost:8080/"
        },
        "id": "06324fda-91e0-4b56-aa1a-2251fea0423e",
        "outputId": "b7ac9610-aca2-4353-dd41-c7a1c62efe7f"
      },
      "source": [
        "print(\"train data 개수:\", len(train_data))\n",
        "print(\"train data 개수:\", len(test_data))"
      ],
      "id": "06324fda-91e0-4b56-aa1a-2251fea0423e",
      "execution_count": null,
      "outputs": [
        {
          "output_type": "stream",
          "name": "stdout",
          "text": [
            "train data 개수: 105\n",
            "train data 개수: 45\n"
          ]
        }
      ]
    },
    {
      "cell_type": "markdown",
      "metadata": {
        "id": "7a53553d-b429-4338-8763-4291fd1911ac"
      },
      "source": [
        "Train 데이터의 정답 개수를 보면 아래와 같습니다."
      ],
      "id": "7a53553d-b429-4338-8763-4291fd1911ac"
    },
    {
      "cell_type": "code",
      "metadata": {
        "colab": {
          "base_uri": "https://localhost:8080/"
        },
        "id": "ea6880e6-860f-4f18-b575-7497ae43457a",
        "outputId": "af023455-a852-438f-fd4a-f8e668c0b818"
      },
      "source": [
        "pd.Series(train_target).value_counts()"
      ],
      "id": "ea6880e6-860f-4f18-b575-7497ae43457a",
      "execution_count": null,
      "outputs": [
        {
          "output_type": "execute_result",
          "data": {
            "text/plain": [
              "2    38\n",
              "1    34\n",
              "0    33\n",
              "dtype: int64"
            ]
          },
          "metadata": {},
          "execution_count": 11
        }
      ]
    },
    {
      "cell_type": "markdown",
      "metadata": {
        "id": "e8a2d599-ebeb-457b-8204-20bc575e6487"
      },
      "source": [
        "Test 데이터의 정답 개수를 보면 아래와 같습니다."
      ],
      "id": "e8a2d599-ebeb-457b-8204-20bc575e6487"
    },
    {
      "cell_type": "code",
      "metadata": {
        "colab": {
          "base_uri": "https://localhost:8080/"
        },
        "id": "ecb47ea2-863a-419d-94b0-f134a1429cff",
        "outputId": "b1dc1ae3-08f1-4ac0-d7c4-c52e783e22c4"
      },
      "source": [
        "pd.Series(test_target).value_counts()"
      ],
      "id": "ecb47ea2-863a-419d-94b0-f134a1429cff",
      "execution_count": null,
      "outputs": [
        {
          "output_type": "execute_result",
          "data": {
            "text/plain": [
              "0    17\n",
              "1    16\n",
              "2    12\n",
              "dtype: int64"
            ]
          },
          "metadata": {},
          "execution_count": 12
        }
      ]
    },
    {
      "cell_type": "markdown",
      "metadata": {
        "id": "7bfd478a-590d-47f9-bdc4-30649f10605b"
      },
      "source": [
        "그런데 단순히 데이터를 분류할 경우 원래 데이터의 target 분포를 반영하지 못합니다.  \n",
        "이때 사용하는 것이 `startify` 옵션입니다.  \n",
        "이 옵션에 데이터의 label을 넣어주면 원본 데이터의 정답 분포를 반영해 데이터를 나눠줍니다."
      ],
      "id": "7bfd478a-590d-47f9-bdc4-30649f10605b"
    },
    {
      "cell_type": "code",
      "metadata": {
        "id": "7256ad02-0636-4813-9531-34b54781e346"
      },
      "source": [
        "train_data, test_data, train_target, test_target = train_test_split(\n",
        "    data, target, train_size=0.7, random_state=2021, stratify=target\n",
        ")"
      ],
      "id": "7256ad02-0636-4813-9531-34b54781e346",
      "execution_count": null,
      "outputs": []
    },
    {
      "cell_type": "code",
      "metadata": {
        "colab": {
          "base_uri": "https://localhost:8080/"
        },
        "id": "9febfd74-fda0-4285-b59f-c3e41af63e1a",
        "outputId": "3827724e-1454-43d1-f31d-dc44e7622c32"
      },
      "source": [
        "pd.Series(train_target).value_counts()"
      ],
      "id": "9febfd74-fda0-4285-b59f-c3e41af63e1a",
      "execution_count": null,
      "outputs": [
        {
          "output_type": "execute_result",
          "data": {
            "text/plain": [
              "2    35\n",
              "1    35\n",
              "0    35\n",
              "dtype: int64"
            ]
          },
          "metadata": {},
          "execution_count": 14
        }
      ]
    },
    {
      "cell_type": "code",
      "metadata": {
        "colab": {
          "base_uri": "https://localhost:8080/"
        },
        "id": "4d11f740-e99e-44b3-b1a2-397128096c60",
        "outputId": "0c4baf70-f9b3-430d-c6eb-e27fd827d7e5"
      },
      "source": [
        "pd.Series(test_target).value_counts()"
      ],
      "id": "4d11f740-e99e-44b3-b1a2-397128096c60",
      "execution_count": null,
      "outputs": [
        {
          "output_type": "execute_result",
          "data": {
            "text/plain": [
              "2    15\n",
              "1    15\n",
              "0    15\n",
              "dtype: int64"
            ]
          },
          "metadata": {},
          "execution_count": 15
        }
      ]
    },
    {
      "cell_type": "markdown",
      "metadata": {
        "id": "a43b2f09-9acc-4650-9100-fd67d9c530e7"
      },
      "source": [
        "## 2. Multiclass"
      ],
      "id": "a43b2f09-9acc-4650-9100-fd67d9c530e7"
    },
    {
      "cell_type": "code",
      "metadata": {
        "id": "e8604e3b-0c3b-4e39-a34c-38d5371e3558"
      },
      "source": [
        "from sklearn.linear_model import LogisticRegression"
      ],
      "id": "e8604e3b-0c3b-4e39-a34c-38d5371e3558",
      "execution_count": null,
      "outputs": []
    },
    {
      "cell_type": "markdown",
      "metadata": {
        "id": "04c6960f-bf42-4084-a43a-9b740cdb4e33"
      },
      "source": [
        "시각화를 위해서 Sepal length와 Sepal width만 사용하겠습니다."
      ],
      "id": "04c6960f-bf42-4084-a43a-9b740cdb4e33"
    },
    {
      "cell_type": "code",
      "metadata": {
        "id": "d7d9f054-5d7b-4a5b-bd35-900365657b6b"
      },
      "source": [
        "X = train_data[:, :2]"
      ],
      "id": "d7d9f054-5d7b-4a5b-bd35-900365657b6b",
      "execution_count": null,
      "outputs": []
    },
    {
      "cell_type": "code",
      "metadata": {
        "colab": {
          "base_uri": "https://localhost:8080/"
        },
        "id": "p9ol5kb6H2ca",
        "outputId": "c4d7f7df-5c0f-4153-e49b-dbceffde3719"
      },
      "source": [
        "X[0]"
      ],
      "id": "p9ol5kb6H2ca",
      "execution_count": null,
      "outputs": [
        {
          "output_type": "execute_result",
          "data": {
            "text/plain": [
              "array([5.1, 3.3])"
            ]
          },
          "metadata": {},
          "execution_count": 18
        }
      ]
    },
    {
      "cell_type": "markdown",
      "metadata": {
        "id": "50bb6997-b790-40d1-b9d9-c859e4c1bcf1"
      },
      "source": [
        "데이터를 시각화하면 다음과 같이 그려집니다."
      ],
      "id": "50bb6997-b790-40d1-b9d9-c859e4c1bcf1"
    },
    {
      "cell_type": "code",
      "metadata": {
        "colab": {
          "base_uri": "https://localhost:8080/",
          "height": 623
        },
        "id": "7c8ec8e7-276f-438d-bc04-4ef7898b305e",
        "outputId": "04709d85-604c-4b73-be20-0f2d624399ef"
      },
      "source": [
        "plt.figure(1, figsize=(10, 10))\n",
        "plt.scatter(X[:, 0], X[:, 1], c=train_target, edgecolors='k', cmap=plt.cm.Paired)\n",
        "plt.xlabel('Sepal length')\n",
        "plt.ylabel('Sepal width')\n",
        "plt.xlim(X[:,0].min()-0.5, X[:,0].max()+0.5)\n",
        "plt.ylim(X[:,1].min()-0.5, X[:,1].max()+0.5)"
      ],
      "id": "7c8ec8e7-276f-438d-bc04-4ef7898b305e",
      "execution_count": null,
      "outputs": [
        {
          "output_type": "execute_result",
          "data": {
            "text/plain": [
              "(1.5, 4.9)"
            ]
          },
          "metadata": {},
          "execution_count": 19
        },
        {
          "output_type": "display_data",
          "data": {
            "image/png": "[encoded data removed]",
            "text/plain": [
              "<Figure size 720x720 with 1 Axes>"
            ]
          },
          "metadata": {
            "needs_background": "light"
          }
        }
      ]
    },
    {
      "cell_type": "markdown",
      "metadata": {
        "id": "1b8f86d2-65d2-4e8d-9644-f8738a7ea480"
      },
      "source": [
        "### 2.1 One vs Rest"
      ],
      "id": "1b8f86d2-65d2-4e8d-9644-f8738a7ea480"
    },
    {
      "cell_type": "markdown",
      "metadata": {
        "id": "31b18169-c8ce-498d-aff2-5ad40d5346d2"
      },
      "source": [
        "우선 One vs Rest 방법의 Logistic Regression을 학습해 보겠습니다."
      ],
      "id": "31b18169-c8ce-498d-aff2-5ad40d5346d2"
    },
    {
      "cell_type": "code",
      "metadata": {
        "colab": {
          "base_uri": "https://localhost:8080/"
        },
        "id": "f2460f59-2f63-4586-943d-47d571302b15",
        "outputId": "96c16b52-ff16-48fb-e0be-e4c85a07cc39"
      },
      "source": [
        "ovr_logit = LogisticRegression(multi_class=\"ovr\")\n",
        "ovr_logit.fit(X, train_target)"
      ],
      "id": "f2460f59-2f63-4586-943d-47d571302b15",
      "execution_count": null,
      "outputs": [
        {
          "output_type": "execute_result",
          "data": {
            "text/plain": [
              "LogisticRegression(C=1.0, class_weight=None, dual=False, fit_intercept=True,\n",
              "                   intercept_scaling=1, l1_ratio=None, max_iter=100,\n",
              "                   multi_class='ovr', n_jobs=None, penalty='l2',\n",
              "                   random_state=None, solver='lbfgs', tol=0.0001, verbose=0,\n",
              "                   warm_start=False)"
            ]
          },
          "metadata": {},
          "execution_count": 20
        }
      ]
    },
    {
      "cell_type": "code",
      "metadata": {
        "colab": {
          "base_uri": "https://localhost:8080/",
          "height": 606
        },
        "id": "6f99309b-68f4-4414-a6b1-f56abf39f856",
        "outputId": "f1d06aeb-4c25-472d-d5e0-477eb6408b51"
      },
      "source": [
        "x_min, x_max = X[:,0].min() - 0.5, X[:,0].max() + 0.5\n",
        "y_min, y_max = X[:,1].min() - 0.5, X[:,1].max() + 0.5\n",
        "\n",
        "plt.figure(1, figsize=(10, 10))\n",
        "\n",
        "plt.scatter(X[:, 0], X[:, 1], c=ovr_logit.predict(X), edgecolors='k', cmap=plt.cm.Paired)\n",
        "plt.xlabel('Sepal length')\n",
        "plt.ylabel('Sepal width')\n",
        "plt.xlim(x_min, x_max)\n",
        "plt.ylim(y_min, y_max)\n",
        "\n",
        "coef = ovr_logit.coef_\n",
        "intercept = ovr_logit.intercept_\n",
        "\n",
        "def plot_hyperplane(c, color):\n",
        "    def line(x0):\n",
        "        return (-(x0 * coef[c, 0]) - intercept[c]) / coef[c, 1]\n",
        "    plt.plot([x_min, x_max], [line(x_min), line(x_max)],\n",
        "             ls=\"--\", color=color)\n",
        "\n",
        "for i, color in zip(ovr_logit.classes_, \"bry\"):\n",
        "    plot_hyperplane(i, color)"
      ],
      "id": "6f99309b-68f4-4414-a6b1-f56abf39f856",
      "execution_count": null,
      "outputs": [
        {
          "output_type": "display_data",
          "data": {
            "image/png": "[encoded data removed]",
            "text/plain": [
              "<Figure size 720x720 with 1 Axes>"
            ]
          },
          "metadata": {
            "needs_background": "light"
          }
        }
      ]
    },
    {
      "cell_type": "markdown",
      "metadata": {
        "id": "ab43608e-c743-4e97-b442-948f9a532a0d"
      },
      "source": [
        "### 2.2 Multinomial\n",
        "\n",
        "정답의 분포가 Multinomial 분포를 따른다고 가정한 후 시행하는 Multiclass Logistic Regression 입니다.  \n",
        "LogisticRegression의 기본 값은 \"multinomial\" 입니다."
      ],
      "id": "ab43608e-c743-4e97-b442-948f9a532a0d"
    },
    {
      "cell_type": "code",
      "metadata": {
        "colab": {
          "base_uri": "https://localhost:8080/"
        },
        "id": "7e95f5ba-ac3a-45ee-9543-c23c74fbbd1d",
        "outputId": "5f5ac9fa-9275-460b-bf8e-4a37814a2332"
      },
      "source": [
        "multi_logit = LogisticRegression(multi_class=\"multinomial\")\n",
        "multi_logit.fit(X, train_target)"
      ],
      "id": "7e95f5ba-ac3a-45ee-9543-c23c74fbbd1d",
      "execution_count": null,
      "outputs": [
        {
          "output_type": "execute_result",
          "data": {
            "text/plain": [
              "LogisticRegression(C=1.0, class_weight=None, dual=False, fit_intercept=True,\n",
              "                   intercept_scaling=1, l1_ratio=None, max_iter=100,\n",
              "                   multi_class='multinomial', n_jobs=None, penalty='l2',\n",
              "                   random_state=None, solver='lbfgs', tol=0.0001, verbose=0,\n",
              "                   warm_start=False)"
            ]
          },
          "metadata": {},
          "execution_count": 22
        }
      ]
    },
    {
      "cell_type": "code",
      "metadata": {
        "colab": {
          "base_uri": "https://localhost:8080/",
          "height": 606
        },
        "id": "9b7df517-eb6b-4f72-be07-08c46c84c787",
        "outputId": "50e437b6-6516-4e76-8c9a-542696db6b7b"
      },
      "source": [
        "x_min, x_max = X[:,0].min() - 0.5, X[:,0].max() + 0.5\n",
        "y_min, y_max = X[:,1].min() - 0.5, X[:,1].max() + 0.5\n",
        "\n",
        "plt.figure(1, figsize=(10, 10))\n",
        "\n",
        "plt.scatter(X[:, 0], X[:, 1], c=multi_logit.predict(X), edgecolors='k', cmap=plt.cm.Paired)\n",
        "plt.xlabel('Sepal length')\n",
        "plt.ylabel('Sepal width')\n",
        "plt.xlim(x_min, x_max)\n",
        "plt.ylim(y_min, y_max)\n",
        "\n",
        "coef = multi_logit.coef_\n",
        "intercept = multi_logit.intercept_\n",
        "\n",
        "def plot_hyperplane(c, color):\n",
        "    def line(x0):\n",
        "        return (-(x0 * coef[c, 0]) - intercept[c]) / coef[c, 1]\n",
        "    plt.plot([x_min, x_max], [line(x_min), line(x_max)],\n",
        "             ls=\"--\", color=color)\n",
        "\n",
        "for i, color in zip(multi_logit.classes_, \"bry\"):\n",
        "    plot_hyperplane(i, color)"
      ],
      "id": "9b7df517-eb6b-4f72-be07-08c46c84c787",
      "execution_count": null,
      "outputs": [
        {
          "output_type": "display_data",
          "data": {
            "image/png": "[encoded data removed]",
            "text/plain": [
              "<Figure size 720x720 with 1 Axes>"
            ]
          },
          "metadata": {
            "needs_background": "light"
          }
        }
      ]
    },
    {
      "cell_type": "markdown",
      "metadata": {
        "id": "bcbd0a11-ed58-4c9d-acbd-a3cdfe45fcd1"
      },
      "source": [
        "## 3. Logistic Regression (Multinomial)"
      ],
      "id": "bcbd0a11-ed58-4c9d-acbd-a3cdfe45fcd1"
    },
    {
      "cell_type": "code",
      "metadata": {
        "id": "68160b77-3445-4da8-9a62-79fe8caf31a1"
      },
      "source": [
        "multi_logit = LogisticRegression()"
      ],
      "id": "68160b77-3445-4da8-9a62-79fe8caf31a1",
      "execution_count": null,
      "outputs": []
    },
    {
      "cell_type": "markdown",
      "metadata": {
        "id": "79df6a30-484b-4797-91ab-34062f29799d"
      },
      "source": [
        "### 3.1 학습"
      ],
      "id": "79df6a30-484b-4797-91ab-34062f29799d"
    },
    {
      "cell_type": "code",
      "metadata": {
        "colab": {
          "base_uri": "https://localhost:8080/"
        },
        "id": "211b43d0-90bd-4775-890b-e7919044a836",
        "outputId": "ba193428-2c0f-4478-9d88-34efd1c990ae"
      },
      "source": [
        "multi_logit.fit(train_data, train_target)"
      ],
      "id": "211b43d0-90bd-4775-890b-e7919044a836",
      "execution_count": null,
      "outputs": [
        {
          "output_type": "stream",
          "name": "stderr",
          "text": [
            "/usr/local/lib/python3.7/dist-packages/sklearn/linear_model/_logistic.py:940: ConvergenceWarning: lbfgs failed to converge (status=1):\n",
            "STOP: TOTAL NO. of ITERATIONS REACHED LIMIT.\n",
            "\n",
            "Increase the number of iterations (max_iter) or scale the data as shown in:\n",
            "    https://scikit-learn.org/stable/modules/preprocessing.html\n",
            "Please also refer to the documentation for alternative solver options:\n",
            "    https://scikit-learn.org/stable/modules/linear_model.html#logistic-regression\n",
            "  extra_warning_msg=_LOGISTIC_SOLVER_CONVERGENCE_MSG)\n"
          ]
        },
        {
          "output_type": "execute_result",
          "data": {
            "text/plain": [
              "LogisticRegression(C=1.0, class_weight=None, dual=False, fit_intercept=True,\n",
              "                   intercept_scaling=1, l1_ratio=None, max_iter=100,\n",
              "                   multi_class='auto', n_jobs=None, penalty='l2',\n",
              "                   random_state=None, solver='lbfgs', tol=0.0001, verbose=0,\n",
              "                   warm_start=False)"
            ]
          },
          "metadata": {},
          "execution_count": 25
        }
      ]
    },
    {
      "cell_type": "markdown",
      "metadata": {
        "id": "ec8dd42e-f6bb-4e90-a0c2-4c90fc1d16a4"
      },
      "source": [
        "### 3.2 예측"
      ],
      "id": "ec8dd42e-f6bb-4e90-a0c2-4c90fc1d16a4"
    },
    {
      "cell_type": "code",
      "metadata": {
        "id": "66b8e998-9143-4096-ada4-731de781dd6c"
      },
      "source": [
        "train_pred_proba = multi_logit.predict_proba(train_data)"
      ],
      "id": "66b8e998-9143-4096-ada4-731de781dd6c",
      "execution_count": null,
      "outputs": []
    },
    {
      "cell_type": "code",
      "metadata": {
        "colab": {
          "base_uri": "https://localhost:8080/"
        },
        "id": "7f6d1a72-22e7-4e26-be94-0f26e7e7f66d",
        "outputId": "ed0ec8f6-7cd1-4336-85b8-94c15cf2c494"
      },
      "source": [
        "sample_pred = train_pred_proba[0]\n",
        "sample_pred"
      ],
      "id": "7f6d1a72-22e7-4e26-be94-0f26e7e7f66d",
      "execution_count": null,
      "outputs": [
        {
          "output_type": "execute_result",
          "data": {
            "text/plain": [
              "array([9.49694515e-01, 5.03040934e-02, 1.39122335e-06])"
            ]
          },
          "metadata": {},
          "execution_count": 27
        }
      ]
    },
    {
      "cell_type": "code",
      "metadata": {
        "colab": {
          "base_uri": "https://localhost:8080/"
        },
        "id": "b9bf18af-b49d-4f78-acd3-180e2f253b1c",
        "outputId": "c650492e-d380-421f-b406-1983632ce9b3"
      },
      "source": [
        "print(f\"class 0에 속하지 않을 확률: {1 - sample_pred[0]:.4f}\")\n",
        "print(f\"class 1과 2에 속할 확률: {sample_pred[1:].sum():.4f}\")"
      ],
      "id": "b9bf18af-b49d-4f78-acd3-180e2f253b1c",
      "execution_count": null,
      "outputs": [
        {
          "output_type": "stream",
          "name": "stdout",
          "text": [
            "class 0에 속하지 않을 확률: 0.0503\n",
            "class 1과 2에 속할 확률: 0.0503\n"
          ]
        }
      ]
    },
    {
      "cell_type": "code",
      "metadata": {
        "id": "83361600-8f4b-4a77-b7f9-262c9f9c17d3"
      },
      "source": [
        "train_pred = multi_logit.predict(train_data)\n",
        "test_pred = multi_logit.predict(test_data)"
      ],
      "id": "83361600-8f4b-4a77-b7f9-262c9f9c17d3",
      "execution_count": null,
      "outputs": []
    },
    {
      "cell_type": "markdown",
      "metadata": {
        "id": "2d51ab9f-9199-4e6a-90bc-1e3f1dd3732f"
      },
      "source": [
        "### 3.3 평가"
      ],
      "id": "2d51ab9f-9199-4e6a-90bc-1e3f1dd3732f"
    },
    {
      "cell_type": "code",
      "metadata": {
        "id": "e6656555-47c2-4b6e-9493-f9a8c1a691e9"
      },
      "source": [
        "from sklearn.metrics import accuracy_score\n",
        "\n",
        "train_acc = accuracy_score(train_target, train_pred)\n",
        "test_acc = accuracy_score(test_target, test_pred)"
      ],
      "id": "e6656555-47c2-4b6e-9493-f9a8c1a691e9",
      "execution_count": null,
      "outputs": []
    },
    {
      "cell_type": "code",
      "metadata": {
        "colab": {
          "base_uri": "https://localhost:8080/"
        },
        "id": "5b837104-e8fb-4357-8e87-9b128fdde78a",
        "outputId": "30f864a1-a29f-46b0-9d9b-120f70d51803"
      },
      "source": [
        "print(f\"Train accuracy is : {train_acc:.2f}\")\n",
        "print(f\"Test accuracy is : {test_acc:.2f}\")"
      ],
      "id": "5b837104-e8fb-4357-8e87-9b128fdde78a",
      "execution_count": null,
      "outputs": [
        {
          "output_type": "stream",
          "name": "stdout",
          "text": [
            "Train accuracy is : 0.98\n",
            "Test accuracy is : 0.91\n"
          ]
        }
      ]
    },
    {
      "cell_type": "markdown",
      "metadata": {
        "id": "47b825d7-623f-4f4b-8df1-aaba0eb6a7ac"
      },
      "source": [
        "## 4. Logistic Regression (OVR)"
      ],
      "id": "47b825d7-623f-4f4b-8df1-aaba0eb6a7ac"
    },
    {
      "cell_type": "code",
      "metadata": {
        "id": "6f4141c5-4a8f-401b-a524-89b06d504761"
      },
      "source": [
        "ovr_logit = LogisticRegression(multi_class=\"ovr\")"
      ],
      "id": "6f4141c5-4a8f-401b-a524-89b06d504761",
      "execution_count": null,
      "outputs": []
    },
    {
      "cell_type": "markdown",
      "metadata": {
        "id": "1340dbf0-0bb3-40c4-82e1-4df59a9aeaab"
      },
      "source": [
        "### 3.1 학습"
      ],
      "id": "1340dbf0-0bb3-40c4-82e1-4df59a9aeaab"
    },
    {
      "cell_type": "code",
      "metadata": {
        "colab": {
          "base_uri": "https://localhost:8080/"
        },
        "id": "7d4973f7-8722-451a-9c29-bb6b8d9bff97",
        "outputId": "900929df-e368-4b3d-adfc-6eb9902eacc5"
      },
      "source": [
        "ovr_logit.fit(train_data, train_target)"
      ],
      "id": "7d4973f7-8722-451a-9c29-bb6b8d9bff97",
      "execution_count": null,
      "outputs": [
        {
          "output_type": "execute_result",
          "data": {
            "text/plain": [
              "LogisticRegression(C=1.0, class_weight=None, dual=False, fit_intercept=True,\n",
              "                   intercept_scaling=1, l1_ratio=None, max_iter=100,\n",
              "                   multi_class='ovr', n_jobs=None, penalty='l2',\n",
              "                   random_state=None, solver='lbfgs', tol=0.0001, verbose=0,\n",
              "                   warm_start=False)"
            ]
          },
          "metadata": {},
          "execution_count": 33
        }
      ]
    },
    {
      "cell_type": "markdown",
      "metadata": {
        "id": "c53bc175-19e3-4787-94d1-bfed1ba4b801"
      },
      "source": [
        "### 3.2 예측"
      ],
      "id": "c53bc175-19e3-4787-94d1-bfed1ba4b801"
    },
    {
      "cell_type": "code",
      "metadata": {
        "id": "a1712478-e4c1-4c2b-b9f6-15f54c6821c9"
      },
      "source": [
        "ovr_train_pred = ovr_logit.predict(train_data)\n",
        "ovr_test_pred = ovr_logit.predict(test_data)"
      ],
      "id": "a1712478-e4c1-4c2b-b9f6-15f54c6821c9",
      "execution_count": null,
      "outputs": []
    },
    {
      "cell_type": "markdown",
      "metadata": {
        "id": "efeb0078-be90-45a2-a156-8ac1a4bd0ba7"
      },
      "source": [
        "### 3.3 평가"
      ],
      "id": "efeb0078-be90-45a2-a156-8ac1a4bd0ba7"
    },
    {
      "cell_type": "code",
      "metadata": {
        "id": "cc92caaa-9deb-4496-a1fa-e5b6d65c46cd"
      },
      "source": [
        "from sklearn.metrics import accuracy_score\n",
        "\n",
        "ovr_train_acc = accuracy_score(train_target, ovr_train_pred)\n",
        "ovr_test_acc = accuracy_score(test_target, ovr_test_pred)"
      ],
      "id": "cc92caaa-9deb-4496-a1fa-e5b6d65c46cd",
      "execution_count": null,
      "outputs": []
    },
    {
      "cell_type": "code",
      "metadata": {
        "colab": {
          "base_uri": "https://localhost:8080/"
        },
        "id": "cc3276d6-d8d5-440c-926a-64940e1890c5",
        "outputId": "60ee1dd9-e199-4ca9-c570-4e01583cac30"
      },
      "source": [
        "print(f\"One vs Rest Train accuracy is : {ovr_train_acc:.2f}\")\n",
        "print(f\"One vs Rest Test accuracy is : {ovr_test_acc:.2f}\")"
      ],
      "id": "cc3276d6-d8d5-440c-926a-64940e1890c5",
      "execution_count": null,
      "outputs": [
        {
          "output_type": "stream",
          "name": "stdout",
          "text": [
            "One vs Rest Train accuracy is : 0.95\n",
            "One vs Rest Test accuracy is : 0.93\n"
          ]
        }
      ]
    },
    {
      "cell_type": "code",
      "metadata": {
        "id": "REb_170dIrwG"
      },
      "source": [
        ""
      ],
      "id": "REb_170dIrwG",
      "execution_count": null,
      "outputs": []
    }
  ]
}