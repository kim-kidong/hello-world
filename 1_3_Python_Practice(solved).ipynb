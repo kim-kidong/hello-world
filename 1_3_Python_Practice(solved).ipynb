{
  "nbformat": 4,
  "nbformat_minor": 0,
  "metadata": {
    "colab": {
      "name": "1-3_Python Practice(solved).ipynb",
      "provenance": [],
      "collapsed_sections": [],
      "toc_visible": true,
      "include_colab_link": true
    },
    "kernelspec": {
      "name": "python3",
      "display_name": "Python 3"
    },
    "language_info": {
      "name": "python"
    }
  },
  "cells": [
    {
      "cell_type": "markdown",
      "metadata": {
        "id": "view-in-github",
        "colab_type": "text"
      },
      "source": [
        "<a href=\"https://colab.research.google.com/github/kim-kidong/hello-world/blob/master/1_3_Python_Practice(solved).ipynb\" target=\"_parent\"><img src=\"https://colab.research.google.com/assets/colab-badge.svg\" alt=\"Open In Colab\"/></a>"
      ]
    },
    {
      "cell_type": "markdown",
      "metadata": {
        "id": "PkPkWssCEK6y"
      },
      "source": [
        "##Q1. Numeric과 기본연산\n",
        "각각 10, 15의 값(data type=`int`)을 가지는 변수 a, b를 생성하고,  \n",
        "a와 b의 합을 출력하세요."
      ]
    },
    {
      "cell_type": "code",
      "metadata": {
        "id": "CFiCMl0jDHhM",
        "colab": {
          "base_uri": "https://localhost:8080/"
        },
        "outputId": "17e4b046-1632-4d1a-eb4c-97b7f2883217"
      },
      "source": [
        "# 아래에 정답코드를 작성해주세요.\n",
        "a, b = 10, 15\n",
        "print(a+b)"
      ],
      "execution_count": null,
      "outputs": [
        {
          "output_type": "stream",
          "name": "stdout",
          "text": [
            "<class 'int'>\n",
            "<class 'int'>\n",
            "25\n"
          ]
        }
      ]
    },
    {
      "cell_type": "markdown",
      "metadata": {
        "id": "3WvPAFGiEYAD"
      },
      "source": [
        "##Q2. Numeric Data의 변환\n",
        "x는 `int`자료형이며 5의 값을 가졌습니다.  \n",
        "x를 `float`자료형으로 변환하세요.  \n",
        "*Hint. int(), float()*"
      ]
    },
    {
      "cell_type": "code",
      "metadata": {
        "colab": {
          "base_uri": "https://localhost:8080/"
        },
        "id": "wxHWGs45FQsl",
        "outputId": "fab95e9a-89ad-4965-de58-78822808cc57"
      },
      "source": [
        "# 문제의 입력값입니다. 풀기 전 꼭 실행해주세요.\n",
        "x = 5\n",
        "print(type(x))\n",
        "print(x)"
      ],
      "execution_count": null,
      "outputs": [
        {
          "output_type": "stream",
          "name": "stdout",
          "text": [
            "<class 'int'>\n",
            "5\n"
          ]
        }
      ]
    },
    {
      "cell_type": "code",
      "metadata": {
        "id": "fhy5u3cvEXT6",
        "colab": {
          "base_uri": "https://localhost:8080/"
        },
        "outputId": "49b7309e-108b-49ec-cb64-e505ffeb404b"
      },
      "source": [
        "# 아래에 정답코드를 작성해주세요.\n",
        "x = float(x)\n",
        "print(type(x))\n"
      ],
      "execution_count": null,
      "outputs": [
        {
          "output_type": "stream",
          "name": "stdout",
          "text": [
            "<class 'float'>\n"
          ]
        }
      ]
    },
    {
      "cell_type": "markdown",
      "metadata": {
        "id": "XbnEd9EjEnJc"
      },
      "source": [
        "##Q3. Strings의 length\n",
        "`t`는 문자열입니다. `t`의 길이를 출력하세요.  \n",
        "*Hint. len()*"
      ]
    },
    {
      "cell_type": "code",
      "metadata": {
        "colab": {
          "base_uri": "https://localhost:8080/"
        },
        "id": "EYXwh_iTElwx",
        "outputId": "03fad858-d2ca-4197-bc62-2545f592b260"
      },
      "source": [
        "# 문제의 입력값입니다. 풀기 전 꼭 실행해주세요.\n",
        "t = \"7JWI64WV7ZWY7IS47JqULiDsoIDripQg7ZmN7KSA6riw7J6F64uI64ukLg==\"\n",
        "print(t)"
      ],
      "execution_count": null,
      "outputs": [
        {
          "output_type": "stream",
          "name": "stdout",
          "text": [
            "7JWI64WV7ZWY7IS47JqULiDsoIDripQg7ZmN7KSA6riw7J6F64uI64ukLg==\n"
          ]
        }
      ]
    },
    {
      "cell_type": "code",
      "metadata": {
        "id": "5qcXWeynPZ86",
        "colab": {
          "base_uri": "https://localhost:8080/"
        },
        "outputId": "f0d4cd13-ff3f-408d-fc15-219666a5e364"
      },
      "source": [
        "# 아래에 정답코드를 작성해주세요.\n",
        "\n",
        "print(len(t))"
      ],
      "execution_count": null,
      "outputs": [
        {
          "output_type": "stream",
          "name": "stdout",
          "text": [
            "60\n"
          ]
        }
      ]
    },
    {
      "cell_type": "markdown",
      "metadata": {
        "id": "suGP8IjAPyYp"
      },
      "source": [
        "##Q4. Strings Indexing\n",
        "사번의 세번째 자리 숫자는 성별을 의미합니다.  \n",
        "`s`에서 성별을 나타내는 숫자를 출력하세요.  \n",
        "*Hint. Indexing*"
      ]
    },
    {
      "cell_type": "code",
      "metadata": {
        "colab": {
          "base_uri": "https://localhost:8080/"
        },
        "id": "vGGSlAlaPdxx",
        "outputId": "01ef71fe-f8ca-4e22-a129-3922b3ea1f63"
      },
      "source": [
        "# 문제의 입력값입니다. 풀기 전 꼭 실행해주세요.\n",
        "s = '15104384'\n",
        "print(s)"
      ],
      "execution_count": null,
      "outputs": [
        {
          "output_type": "stream",
          "name": "stdout",
          "text": [
            "15104384\n"
          ]
        }
      ]
    },
    {
      "cell_type": "code",
      "metadata": {
        "id": "kpntJ7HHQXTL",
        "colab": {
          "base_uri": "https://localhost:8080/"
        },
        "outputId": "9c1d8a20-1631-422c-d012-df9310ad3329"
      },
      "source": [
        "# 아래에 정답코드를 작성해주세요.\n",
        "print(s[2])\n"
      ],
      "execution_count": null,
      "outputs": [
        {
          "output_type": "stream",
          "name": "stdout",
          "text": [
            "1\n"
          ]
        }
      ]
    },
    {
      "cell_type": "markdown",
      "metadata": {
        "id": "0Uz5O93yIvrh"
      },
      "source": [
        "##Q5. Strings와 연산자\n",
        "`f`는 \"Funny\", `p`는 \"Python\"의 값을 가지고 있는 변수입니다.  \n",
        "`f`와 `p`를 이용하여 \"Funny Python\"이라는 문자열을 출력하세요.  \n",
        "*Hint. `str`과 연산자의 활용*"
      ]
    },
    {
      "cell_type": "code",
      "metadata": {
        "id": "roXlq5IVQc5x",
        "colab": {
          "base_uri": "https://localhost:8080/"
        },
        "outputId": "9a4ab0ea-1ece-4783-a16b-1d8a246946ed"
      },
      "source": [
        "# 문제의 입력값입니다. 풀기 전 꼭 실행해주세요.\n",
        "f = \"Funny\"\n",
        "p = \"Python\"\n",
        "print(f)\n",
        "print(p)"
      ],
      "execution_count": null,
      "outputs": [
        {
          "output_type": "stream",
          "name": "stdout",
          "text": [
            "Funny\n",
            "Python\n"
          ]
        }
      ]
    },
    {
      "cell_type": "code",
      "metadata": {
        "id": "YQn-Tbq4JlK6",
        "colab": {
          "base_uri": "https://localhost:8080/"
        },
        "outputId": "d8b22a2e-f20a-44b8-8751-c8eb596d1d9e"
      },
      "source": [
        "# 아래에 정답코드를 작성해주세요.\n",
        "print(f + \" \" + p)\n"
      ],
      "execution_count": null,
      "outputs": [
        {
          "output_type": "stream",
          "name": "stdout",
          "text": [
            "Funny Python\n"
          ]
        }
      ]
    },
    {
      "cell_type": "markdown",
      "metadata": {
        "id": "W9TQ3TWTKnfQ"
      },
      "source": [
        "##Q6. List 생성\n",
        "순서대로 1, 3, 5, 7, 9의 값을 가지고 있는 리스트를 `L`이라는 변수에 할당하세요.  \n",
        "(요소의 data type은 모두 `int`입니다.)  "
      ]
    },
    {
      "cell_type": "code",
      "metadata": {
        "id": "wCp8GvSLKiDs",
        "colab": {
          "base_uri": "https://localhost:8080/"
        },
        "outputId": "2b92f208-f30f-48e1-dc77-84c622253328"
      },
      "source": [
        "# 아래에 정답코드를 작성해주세요.\n",
        "L = []\n",
        "\n",
        "L.append(1)\n",
        "L.append(3)\n",
        "L.append(5)\n",
        "L.append(7)\n",
        "L.append(9)\n",
        "\n",
        "print(L)"
      ],
      "execution_count": null,
      "outputs": [
        {
          "output_type": "stream",
          "name": "stdout",
          "text": [
            "[1, 3, 5, 7, 9]\n"
          ]
        }
      ]
    },
    {
      "cell_type": "markdown",
      "metadata": {
        "id": "JwxGYaJkLI-y"
      },
      "source": [
        "##Q7. List 수정(1)\n",
        "`L2`는 List입니다. `L2`의 가장 마지막에 6의 값을 가진 요소를 추가하세요.  \n",
        "(요소의 data type은 `int`입니다.)"
      ]
    },
    {
      "cell_type": "code",
      "metadata": {
        "colab": {
          "base_uri": "https://localhost:8080/"
        },
        "id": "Vlm7QK80K8GE",
        "outputId": "79a260ec-20a9-4552-c2cc-256b2f80809b"
      },
      "source": [
        "# 문제의 입력값입니다. 풀기 전 꼭 실행해주세요.\n",
        "L2 = [1, 2, 3, 4, 5]\n",
        "print(L2)"
      ],
      "execution_count": null,
      "outputs": [
        {
          "output_type": "stream",
          "name": "stdout",
          "text": [
            "[1, 2, 3, 4, 5]\n"
          ]
        }
      ]
    },
    {
      "cell_type": "code",
      "metadata": {
        "id": "-3HgqcIwLxTD",
        "colab": {
          "base_uri": "https://localhost:8080/"
        },
        "outputId": "3b81e6db-a017-4833-8422-5ed7037a6d20"
      },
      "source": [
        "# 아래에 정답코드를 작성해주세요.\n",
        "L2.append(6)\n",
        "print(L2)\n"
      ],
      "execution_count": null,
      "outputs": [
        {
          "output_type": "stream",
          "name": "stdout",
          "text": [
            "[1, 2, 3, 4, 5, 6]\n"
          ]
        }
      ]
    },
    {
      "cell_type": "markdown",
      "metadata": {
        "id": "jyWjA3NU52Eg"
      },
      "source": [
        "##Q8. Indexing\n",
        "`l` List의 3번 index 값을 출력하세요."
      ]
    },
    {
      "cell_type": "code",
      "metadata": {
        "colab": {
          "base_uri": "https://localhost:8080/"
        },
        "id": "yPt_vw50D3He",
        "outputId": "2b00541d-b948-40ad-d7e3-ec362b24c1bb"
      },
      "source": [
        "# 문제의 입력값입니다. 풀기 전 꼭 실행해주세요.\n",
        "l = [\"happiness\", \"sadness\", \"anger\", \"love\", \"thank\"]\n",
        "print(l)"
      ],
      "execution_count": null,
      "outputs": [
        {
          "output_type": "stream",
          "name": "stdout",
          "text": [
            "['happiness', 'sadness', 'anger', 'love', 'thank']\n"
          ]
        }
      ]
    },
    {
      "cell_type": "code",
      "metadata": {
        "id": "MNQ6ikhaEYHf",
        "colab": {
          "base_uri": "https://localhost:8080/"
        },
        "outputId": "a1b1c996-796c-4e4b-e83b-9e2287b3c542"
      },
      "source": [
        "# 아래에 정답코드를 작성해주세요.\n",
        "print(l[3])\n"
      ],
      "execution_count": null,
      "outputs": [
        {
          "output_type": "stream",
          "name": "stdout",
          "text": [
            "love\n"
          ]
        }
      ]
    },
    {
      "cell_type": "markdown",
      "metadata": {
        "id": "lrn_M2u0L7wo"
      },
      "source": [
        "##Q9. List 수정(2)\n",
        "`L3`는 List입니다. `L3`의 3번 index 값을 \"p\"로 바꾸세요."
      ]
    },
    {
      "cell_type": "code",
      "metadata": {
        "colab": {
          "base_uri": "https://localhost:8080/"
        },
        "id": "Z4LwajCeL2dj",
        "outputId": "c1b050fe-2b8e-4dfe-9bed-0f74c33022d0"
      },
      "source": [
        "# 문제의 입력값입니다. 풀기 전 꼭 실행해주세요.\n",
        "L3 = [\"H\", \"a\", \"p\", \"o\", \"y\"]\n",
        "print(L3)"
      ],
      "execution_count": null,
      "outputs": [
        {
          "output_type": "stream",
          "name": "stdout",
          "text": [
            "['H', 'a', 'p', 'o', 'y']\n"
          ]
        }
      ]
    },
    {
      "cell_type": "code",
      "metadata": {
        "id": "NQbVl0yHODoK",
        "colab": {
          "base_uri": "https://localhost:8080/"
        },
        "outputId": "d34690f3-0f7a-4787-e016-9eae834e1169"
      },
      "source": [
        "# 아래에 정답코드를 작성해주세요.\n",
        "L3[3] = \"p\"\n",
        "print(L3)\n"
      ],
      "execution_count": null,
      "outputs": [
        {
          "output_type": "stream",
          "name": "stdout",
          "text": [
            "['H', 'a', 'p', 'p', 'y']\n"
          ]
        }
      ]
    },
    {
      "cell_type": "markdown",
      "metadata": {
        "id": "4GngH5kQK2L0"
      },
      "source": [
        "##Q10. Slicing(1)\n",
        "`l`의 2~8번째 index 요소를 출력하세요."
      ]
    },
    {
      "cell_type": "code",
      "metadata": {
        "colab": {
          "base_uri": "https://localhost:8080/"
        },
        "id": "NxPFvDhTLABn",
        "outputId": "79469569-c04b-4808-9c06-775447396998"
      },
      "source": [
        "# 문제의 입력값입니다. 풀기 전 꼭 실행해주세요.\n",
        "l = [\"p\", \"a\", \"p\", \"y\", \"t\", \"h\", \"o\", \"n\", \"!\", \"?\", \".\"]\n",
        "print(l)"
      ],
      "execution_count": null,
      "outputs": [
        {
          "output_type": "stream",
          "name": "stdout",
          "text": [
            "['p', 'a', 'p', 'y', 't', 'h', 'o', 'n', '!', '?', '.']\n"
          ]
        }
      ]
    },
    {
      "cell_type": "code",
      "metadata": {
        "id": "ymZw4Yq-LO5r",
        "colab": {
          "base_uri": "https://localhost:8080/"
        },
        "outputId": "a184041c-4368-43e8-d646-7228af71fdab"
      },
      "source": [
        "# 아래에 정답코드를 작성해주세요.\n",
        "print(l[2:9])\n"
      ],
      "execution_count": null,
      "outputs": [
        {
          "output_type": "stream",
          "name": "stdout",
          "text": [
            "['p', 'y', 't', 'h', 'o', 'n', '!']\n"
          ]
        }
      ]
    },
    {
      "cell_type": "markdown",
      "metadata": {
        "id": "Owu4IfyIEn88"
      },
      "source": [
        "##Q11. Slicing(2)\n",
        "`s`를 거꾸로(역순으로) 출력하세요.  \n",
        "*Hint. Slicing의 step*"
      ]
    },
    {
      "cell_type": "code",
      "metadata": {
        "colab": {
          "base_uri": "https://localhost:8080/"
        },
        "id": "IHkCPsISE6U0",
        "outputId": "4cc1e668-372e-4528-f2ad-c9a503d55a11"
      },
      "source": [
        "# 문제의 입력값입니다. 풀기 전 꼭 실행해주세요.\n",
        "s = \"uoy evol I\"\n",
        "print(s)"
      ],
      "execution_count": null,
      "outputs": [
        {
          "output_type": "stream",
          "name": "stdout",
          "text": [
            "uoy evol I\n"
          ]
        }
      ]
    },
    {
      "cell_type": "code",
      "metadata": {
        "id": "CI4S5uNsG2UR",
        "colab": {
          "base_uri": "https://localhost:8080/"
        },
        "outputId": "6433eea1-fa9b-480e-d8d3-86cc4f021da9"
      },
      "source": [
        "# 아래에 정답코드를 작성해주세요.\n",
        "print(s[::-1])\n"
      ],
      "execution_count": null,
      "outputs": [
        {
          "output_type": "stream",
          "name": "stdout",
          "text": [
            "I love you\n"
          ]
        }
      ]
    },
    {
      "cell_type": "markdown",
      "metadata": {
        "id": "fBq6QO6oG9iA"
      },
      "source": [
        "##Q12. Slicing(3)\n",
        "`l`의 짝수번째(홀수 Index) 요소만 출력하세요.  \n",
        "*Hint. Slicing의 start와 step*"
      ]
    },
    {
      "cell_type": "code",
      "metadata": {
        "colab": {
          "base_uri": "https://localhost:8080/"
        },
        "id": "7X7MB897JhtP",
        "outputId": "8cfe37dd-1ed9-4f07-9897-1dd996531c38"
      },
      "source": [
        "# 문제의 입력값입니다. 풀기 전 꼭 실행해주세요.\n",
        "l = [\"i\", \"G\", \"a\", \"o\", \"n\", \"o\", \"e\", \"d\", \"n\", \"J\", \"o\", \"o\", \"s\", \"b\"]\n",
        "print(l)"
      ],
      "execution_count": null,
      "outputs": [
        {
          "output_type": "stream",
          "name": "stdout",
          "text": [
            "['i', 'G', 'a', 'o', 'n', 'o', 'e', 'd', 'n', 'J', 'o', 'o', 's', 'b']\n"
          ]
        }
      ]
    },
    {
      "cell_type": "code",
      "metadata": {
        "id": "8YqcNaUfKlTN",
        "colab": {
          "base_uri": "https://localhost:8080/"
        },
        "outputId": "32743935-d5c2-4a6a-f07c-c3fac67ff891"
      },
      "source": [
        "# 아래에 정답코드를 작성해주세요.\n",
        "print(l[1::2])\n"
      ],
      "execution_count": null,
      "outputs": [
        {
          "output_type": "stream",
          "name": "stdout",
          "text": [
            "['G', 'o', 'o', 'd', 'J', 'o', 'b']\n"
          ]
        }
      ]
    },
    {
      "cell_type": "markdown",
      "metadata": {
        "id": "5gQPMd7mOcTf"
      },
      "source": [
        "##Q13. Dictionary 생성\n",
        "아래 정보를 참고하여 `dictionary` 객체를 생성하여 변수 `d`에 할당하세요.  \n",
        "Key :  Value  \n",
        "\"A\" : \"apple\"  \n",
        "\"B\" : \"banana\"  \n",
        "\"C\" : \"carrot\"\n"
      ]
    },
    {
      "cell_type": "code",
      "metadata": {
        "id": "4RXRzjIoOQIR",
        "colab": {
          "base_uri": "https://localhost:8080/"
        },
        "outputId": "c26c70e0-3cb2-428d-8158-30eeddd413e0"
      },
      "source": [
        "# 아래에 정답코드를 작성해주세요.\n",
        "d = {}\n",
        "\n",
        "d[\"A\"] = \"apple\"\n",
        "d[\"B\"] = \"banana\"\n",
        "d[\"C\"] = \"carrot\"\n",
        "\n",
        "print(d)\n",
        "print(type(d))"
      ],
      "execution_count": null,
      "outputs": [
        {
          "output_type": "stream",
          "name": "stdout",
          "text": [
            "{'A': 'apple', 'B': 'banana', 'C': 'carrot'}\n",
            "<class 'dict'>\n"
          ]
        }
      ]
    },
    {
      "cell_type": "markdown",
      "metadata": {
        "id": "wHsJHTRDPmwg"
      },
      "source": [
        "##Q14. Dictionary 검색\n",
        "`d1`은 `dictionary` 객체 입니다.  \n",
        "`d1`에서 Key의 값이 \"1225\"에 해당하는 Value를 출력하세요."
      ]
    },
    {
      "cell_type": "code",
      "metadata": {
        "colab": {
          "base_uri": "https://localhost:8080/"
        },
        "id": "5JKxB_XbPgBq",
        "outputId": "01dc7edc-8315-4572-b38a-4b779ea7ea3d"
      },
      "source": [
        "# 문제의 입력값입니다. 풀기 전 꼭 실행해주세요.\n",
        "d1 = {\"0101\" : \"신정\", \"0301\" : \"삼일절\", \"0505\" : \"어린이날\", \"0606\" : \"현충일\", \"0815\" : \"광복절\", \"1003\" : \"개천절\", \"1009\" : \"한글날\", \"1225\" : \"크리스마스\"}\n",
        "print(d1)"
      ],
      "execution_count": null,
      "outputs": [
        {
          "output_type": "stream",
          "name": "stdout",
          "text": [
            "{'0101': '신정', '0301': '삼일절', '0505': '어린이날', '0606': '현충일', '0815': '광복절', '1003': '개천절', '1009': '한글날', '1225': '크리스마스'}\n"
          ]
        }
      ]
    },
    {
      "cell_type": "code",
      "metadata": {
        "id": "cDRPq4AGQgRa",
        "colab": {
          "base_uri": "https://localhost:8080/"
        },
        "outputId": "ba10504a-9717-44ea-f1f7-174502f3b629"
      },
      "source": [
        "# 아래에 정답코드를 작성해주세요.\n",
        "print(d1[\"1225\"])\n"
      ],
      "execution_count": null,
      "outputs": [
        {
          "output_type": "stream",
          "name": "stdout",
          "text": [
            "크리스마스\n"
          ]
        }
      ]
    },
    {
      "cell_type": "markdown",
      "metadata": {
        "id": "CVGqUmDsTIYn"
      },
      "source": [
        "##Q15. Dictionary 수정(1)\n",
        "`d`에서 Key 값이 \"dog\"인 요소의 Value를 \"개\"로 수정하세요."
      ]
    },
    {
      "cell_type": "code",
      "metadata": {
        "colab": {
          "base_uri": "https://localhost:8080/"
        },
        "id": "vt0_z-kbTgDC",
        "outputId": "4af5908e-b5c3-47eb-d31d-5492c4a9b9be"
      },
      "source": [
        "# 문제의 입력값입니다. 풀기 전 꼭 실행해주세요.\n",
        "d = {\"cat\" : \"고양이\", \"zebra\" : \"얼룩말\", \"monkey\" : \"원숭이\", \"dog\" : \"고라니\"}\n",
        "print(d)"
      ],
      "execution_count": null,
      "outputs": [
        {
          "output_type": "stream",
          "name": "stdout",
          "text": [
            "{'cat': '고양이', 'zebra': '얼룩말', 'monkey': '원숭이', 'dog': '고라니'}\n"
          ]
        }
      ]
    },
    {
      "cell_type": "code",
      "metadata": {
        "id": "AuBuDIfZTwyD",
        "colab": {
          "base_uri": "https://localhost:8080/"
        },
        "outputId": "f64d3878-a2f4-40a8-cb70-4e96fd34a6c6"
      },
      "source": [
        "# 아래에 정답코드를 작성해주세요.\n",
        "d[\"dog\"] = \"개\"\n",
        "print(d[\"dog\"])"
      ],
      "execution_count": null,
      "outputs": [
        {
          "output_type": "stream",
          "name": "stdout",
          "text": [
            "개\n"
          ]
        }
      ]
    },
    {
      "cell_type": "markdown",
      "metadata": {
        "id": "B0sCUfU_T5xZ"
      },
      "source": [
        "##Q16. Dictionary 수정(2)\n",
        "`d`에서 Key 값이 \"tomato\"인 요소를 삭제하세요."
      ]
    },
    {
      "cell_type": "code",
      "metadata": {
        "colab": {
          "base_uri": "https://localhost:8080/"
        },
        "id": "K7cW_KUkUGBK",
        "outputId": "88b5975f-e0c9-42f2-9f60-a121d9a60f36"
      },
      "source": [
        "# 문제의 입력값입니다. 풀기 전 꼭 실행해주세요.\n",
        "d = {\"apple\" : \"사과\", \"banana\" : \"바나나\", \"grape\" : \"포도\", \"tomato\" : \"토마토\", \"orange\" : \"오렌지\"}\n",
        "print(d)"
      ],
      "execution_count": null,
      "outputs": [
        {
          "output_type": "stream",
          "name": "stdout",
          "text": [
            "{'apple': '사과', 'banana': '바나나', 'grape': '포도', 'tomato': '토마토', 'orange': '오렌지'}\n"
          ]
        }
      ]
    },
    {
      "cell_type": "code",
      "metadata": {
        "id": "aXlAquIoUaBd",
        "colab": {
          "base_uri": "https://localhost:8080/"
        },
        "outputId": "2ae66a73-b204-402e-f372-ac48aa8ed3ce"
      },
      "source": [
        "# 아래에 정답코드를 작성해주세요.\n",
        "d.pop(\"tomato\")\n",
        "print(d)\n"
      ],
      "execution_count": null,
      "outputs": [
        {
          "output_type": "stream",
          "name": "stdout",
          "text": [
            "{'apple': '사과', 'banana': '바나나', 'grape': '포도', 'orange': '오렌지'}\n"
          ]
        }
      ]
    },
    {
      "cell_type": "markdown",
      "metadata": {
        "id": "XGEss32dRGj6"
      },
      "source": [
        "##Q17. List 중복값 제거\n",
        "`l`은 중복된 요소를 가진 `list`입니다.  \n",
        "`l`에서 중복된 요소를 제거한 `list`를 `l1` 변수에 할당하세요.  \n",
        "*Hint. `list`를 `set`으로 변환하면 중복된 요소가 사라집니다.*"
      ]
    },
    {
      "cell_type": "code",
      "metadata": {
        "colab": {
          "base_uri": "https://localhost:8080/"
        },
        "id": "w_SXmFFgQibQ",
        "outputId": "77a2b72b-f2cf-4365-e16f-f7f498bd6648"
      },
      "source": [
        "# 문제의 입력값입니다. 풀기 전 꼭 실행해주세요.\n",
        "l = [1, 1, 3, 5, 6, 6, 6, 7, 9, 10, 9]\n",
        "print(l)"
      ],
      "execution_count": null,
      "outputs": [
        {
          "output_type": "stream",
          "name": "stdout",
          "text": [
            "[1, 1, 3, 5, 6, 6, 6, 7, 9, 10, 9]\n"
          ]
        }
      ]
    },
    {
      "cell_type": "code",
      "metadata": {
        "id": "pfux6iuPRr8K",
        "colab": {
          "base_uri": "https://localhost:8080/"
        },
        "outputId": "978cd5b8-a3e9-4cb8-8bbc-46aef8784668"
      },
      "source": [
        "# 아래에 정답코드를 작성해주세요.\n",
        "l1 = list(set(l))\n",
        "print(l1)"
      ],
      "execution_count": null,
      "outputs": [
        {
          "output_type": "stream",
          "name": "stdout",
          "text": [
            "[1, 3, 5, 6, 7, 9, 10]\n"
          ]
        }
      ]
    },
    {
      "cell_type": "markdown",
      "metadata": {
        "id": "whSMECANfOCA"
      },
      "source": [
        "#Q18. sort\n",
        "`l`을 정렬하여 저장하고 출력하세요.  \n",
        "*Hint. .sort(), sorted()*"
      ]
    },
    {
      "cell_type": "code",
      "metadata": {
        "colab": {
          "base_uri": "https://localhost:8080/"
        },
        "id": "YryB65cmfNry",
        "outputId": "239eb247-48fe-4929-86dc-0c4d1cb9085f"
      },
      "source": [
        "# 문제의 입력값입니다. 풀기 전 꼭 실행해주세요.\n",
        "l = [12, 6, 2, 3, 8, 5, 13, 9, 1]\n",
        "print(l)"
      ],
      "execution_count": null,
      "outputs": [
        {
          "output_type": "stream",
          "name": "stdout",
          "text": [
            "[12, 6, 2, 3, 8, 5, 13, 9, 1]\n"
          ]
        }
      ]
    },
    {
      "cell_type": "code",
      "metadata": {
        "id": "GNFbzYrIf3E4",
        "colab": {
          "base_uri": "https://localhost:8080/"
        },
        "outputId": "09312f2e-069c-4e48-c561-4475e939d053"
      },
      "source": [
        "# 아래에 정답코드를 작성해주세요.\n",
        "l = sorted(l)\n",
        "print(l)"
      ],
      "execution_count": null,
      "outputs": [
        {
          "output_type": "stream",
          "name": "stdout",
          "text": [
            "[1, 2, 3, 5, 6, 8, 9, 12, 13]\n"
          ]
        }
      ]
    },
    {
      "cell_type": "code",
      "metadata": {
        "colab": {
          "base_uri": "https://localhost:8080/"
        },
        "id": "b9KXULLeOzpK",
        "outputId": "28ac6a7b-5bda-498d-fa38-1fe5b46ad381"
      },
      "source": [
        "l.sort()\n",
        "print(l)"
      ],
      "execution_count": null,
      "outputs": [
        {
          "output_type": "stream",
          "name": "stdout",
          "text": [
            "[1, 2, 3, 5, 6, 8, 9, 12, 13]\n"
          ]
        }
      ]
    },
    {
      "cell_type": "markdown",
      "metadata": {
        "id": "lZFPC7CmgcmH"
      },
      "source": [
        "#Q19. type(), Condition\n",
        "`x`가 `str` 자료형이면 \"It's Strings\"  \n",
        "`x`가 `int` 자료형이면 \"It's Int\"  \n",
        "`x`가 `float` 자료형이면 \"It's float\"  \n",
        "`x`가 그 외 자료형이면 \"I don't know\"를 출력하는 조건문을 작성하세요."
      ]
    },
    {
      "cell_type": "code",
      "metadata": {
        "id": "WxeCv_Y9f6tp",
        "colab": {
          "base_uri": "https://localhost:8080/"
        },
        "outputId": "43dbcff2-2d8a-4729-fbd9-aa9d4c9575dc"
      },
      "source": [
        "# 아래에 정답코드를 작성해주세요.\n",
        "x = 1.0\n",
        "\n",
        "if type(x) is str:\n",
        "    print(\"It's Strings\")\n",
        "elif type(x) is int:\n",
        "    print(\"It's Int\")\n",
        "elif type(x) is float:\n",
        "    print(\"It's float\")\n",
        "else:\n",
        "    print(\"I don't know\")"
      ],
      "execution_count": null,
      "outputs": [
        {
          "output_type": "stream",
          "name": "stdout",
          "text": [
            "It's float\n"
          ]
        }
      ]
    },
    {
      "cell_type": "markdown",
      "metadata": {
        "id": "CYFV8pxHiWfQ"
      },
      "source": [
        "#Q20. for Loop와 range()\n",
        "2~20의 숫자 중 2의 배수를 출력하는 `for`문을 작성하세요.(range()를 활용하세요.)  \n",
        "*Hint. range(start, stop, **step**)*"
      ]
    },
    {
      "cell_type": "code",
      "metadata": {
        "id": "_E-Wo73lhIVf",
        "colab": {
          "base_uri": "https://localhost:8080/"
        },
        "outputId": "36673ff4-babb-4e25-a672-f6cb0e2d70bb"
      },
      "source": [
        "# 아래에 정답코드를 작성해주세요.\n",
        "for each in range(2,21,2):\n",
        "    print(each)"
      ],
      "execution_count": null,
      "outputs": [
        {
          "output_type": "stream",
          "name": "stdout",
          "text": [
            "2\n",
            "4\n",
            "6\n",
            "8\n",
            "10\n",
            "12\n",
            "14\n",
            "16\n",
            "18\n",
            "20\n"
          ]
        }
      ]
    },
    {
      "cell_type": "code",
      "metadata": {
        "colab": {
          "base_uri": "https://localhost:8080/"
        },
        "id": "pYvAs3pfP-T0",
        "outputId": "3e91a925-cf26-4400-87a1-230c87f82883"
      },
      "source": [
        "for each in range(2,21):\n",
        "    if each % 2 == 0:\n",
        "        print(each)"
      ],
      "execution_count": null,
      "outputs": [
        {
          "output_type": "stream",
          "name": "stdout",
          "text": [
            "2\n",
            "4\n",
            "6\n",
            "8\n",
            "10\n",
            "12\n",
            "14\n",
            "16\n",
            "18\n",
            "20\n"
          ]
        }
      ]
    },
    {
      "cell_type": "markdown",
      "metadata": {
        "id": "dpvWOtO4ja9e"
      },
      "source": [
        "#Q21. List의 for Loop와 Condition\n",
        "`for`문과 `if`문을 활용하여 `l`의 요소 중 2의 배수인 값만 출력하는 코드를 작성하세요."
      ]
    },
    {
      "cell_type": "code",
      "metadata": {
        "colab": {
          "base_uri": "https://localhost:8080/"
        },
        "id": "XchH7PykjLlC",
        "outputId": "504477a9-5c18-4597-ebc2-0a3d3d47e1cc"
      },
      "source": [
        "# 문제의 입력값입니다. 풀기 전 꼭 실행해주세요.\n",
        "l = [1, 3, 4, 5, 7, 8, 10, 12, 13, 14, 17, 19, 20]\n",
        "print(l)"
      ],
      "execution_count": null,
      "outputs": [
        {
          "output_type": "stream",
          "name": "stdout",
          "text": [
            "[1, 3, 4, 5, 7, 8, 10, 12, 13, 14, 17, 19, 20]\n"
          ]
        }
      ]
    },
    {
      "cell_type": "code",
      "metadata": {
        "id": "4KS9V_owj2Df",
        "colab": {
          "base_uri": "https://localhost:8080/"
        },
        "outputId": "c76535cf-3a27-4490-87c0-ce930821b726"
      },
      "source": [
        "# 아래에 정답코드를 작성해주세요.\n",
        "for each in l:\n",
        "    if each % 2 == 0:\n",
        "        print(each)"
      ],
      "execution_count": null,
      "outputs": [
        {
          "output_type": "stream",
          "name": "stdout",
          "text": [
            "4\n",
            "8\n",
            "10\n",
            "12\n",
            "14\n",
            "20\n"
          ]
        }
      ]
    },
    {
      "cell_type": "markdown",
      "metadata": {
        "id": "G-O5-SEokCag"
      },
      "source": [
        "#Q22. Function 생성\n",
        "`list`(values)가 인자로 주어지면 해당 `list`의 평균을 반환하는 mean() 함수를 완성하세요."
      ]
    },
    {
      "cell_type": "code",
      "metadata": {
        "id": "RgMc1DeFj_T3"
      },
      "source": [
        "# 아래에 정답코드를 작성해주세요.\n",
        "def mean(values):\n",
        "  return sum(values) / len(values)"
      ],
      "execution_count": null,
      "outputs": []
    },
    {
      "cell_type": "code",
      "metadata": {
        "colab": {
          "base_uri": "https://localhost:8080/"
        },
        "id": "ubAe-sldMxJ_",
        "outputId": "b4e9256d-fa4b-4de4-ebcd-8f6628afe745"
      },
      "source": [
        "l = list(range(10))\n",
        "print(l)"
      ],
      "execution_count": null,
      "outputs": [
        {
          "output_type": "stream",
          "name": "stdout",
          "text": [
            "[0, 1, 2, 3, 4, 5, 6, 7, 8, 9]\n"
          ]
        }
      ]
    },
    {
      "cell_type": "code",
      "metadata": {
        "colab": {
          "base_uri": "https://localhost:8080/"
        },
        "id": "Sm0f6r3qM1NX",
        "outputId": "74b74600-8bad-418d-dd2b-ac2743bf0716"
      },
      "source": [
        "print(mean(l))"
      ],
      "execution_count": null,
      "outputs": [
        {
          "output_type": "stream",
          "name": "stdout",
          "text": [
            "4.5\n"
          ]
        }
      ]
    }
  ]
}