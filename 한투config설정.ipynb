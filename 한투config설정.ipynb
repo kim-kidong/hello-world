{
  "nbformat": 4,
  "nbformat_minor": 0,
  "metadata": {
    "colab": {
      "name": "Untitled1.ipynb",
      "provenance": [],
      "authorship_tag": "ABX9TyMGw+zHALJkfO/JGfb1ZIkK",
      "include_colab_link": true
    },
    "kernelspec": {
      "name": "python3",
      "display_name": "Python 3"
    },
    "language_info": {
      "name": "python"
    }
  },
  "cells": [
    {
      "cell_type": "markdown",
      "metadata": {
        "id": "view-in-github",
        "colab_type": "text"
      },
      "source": [
        "<a href=\"https://colab.research.google.com/github/kim-kidong/hello-world/blob/master/%ED%95%9C%ED%88%ACconfig%EC%84%A4%EC%A0%95.ipynb\" target=\"_parent\"><img src=\"https://colab.research.google.com/assets/colab-badge.svg\" alt=\"Open In Colab\"/></a>"
      ]
    },
    {
      "cell_type": "code",
      "execution_count": null,
      "metadata": {
        "id": "XI-Ypg_N_gHo"
      },
      "outputs": [],
      "source": [
        "\n",
        "#홈페이지에서 API서비스 신청시 받은 Appkey, Appsecret 값 설정\n",
        "APP_KEY: \"\"\n",
        "APP_SECRET: \"\"\n",
        "\n",
        "#계좌번호 앞 8자리\n",
        "CANO: \"\"\n",
        "#계좌번호 뒤 2자리\n",
        "ACNT_PRDT_CD: \"01\"\n",
        "\n",
        "#실전투자\n",
        "URL_BASE: \"https://openapi.koreainvestment.com:9443\"\n",
        "#모의투자\n",
        "# URL_BASE: \"https://openapivts.koreainvestment.com:29443\"\n",
        "\n",
        "#디스코드 웹훅 URL\n",
        "DISCORD_WEBHOOK_URL: \"\""
      ]
    }
  ]
}