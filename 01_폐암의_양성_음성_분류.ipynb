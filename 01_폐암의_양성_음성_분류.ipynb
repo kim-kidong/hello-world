{
  "nbformat": 4,
  "nbformat_minor": 5,
  "metadata": {
    "kernelspec": {
      "display_name": "Python 3 (ipykernel)",
      "language": "python",
      "name": "python3"
    },
    "language_info": {
      "codemirror_mode": {
        "name": "ipython",
        "version": 3
      },
      "file_extension": ".py",
      "mimetype": "text/x-python",
      "name": "python",
      "nbconvert_exporter": "python",
      "pygments_lexer": "ipython3",
      "version": "3.8.10"
    },
    "colab": {
      "name": "01_폐암의 양성 음성 분류.ipynb",
      "provenance": [],
      "toc_visible": true,
      "include_colab_link": true
    }
  },
  "cells": [
    {
      "cell_type": "markdown",
      "metadata": {
        "id": "view-in-github",
        "colab_type": "text"
      },
      "source": [
        "<a href=\"https://colab.research.google.com/github/kim-kidong/hello-world/blob/master/01_%ED%8F%90%EC%95%94%EC%9D%98_%EC%96%91%EC%84%B1_%EC%9D%8C%EC%84%B1_%EB%B6%84%EB%A5%98.ipynb\" target=\"_parent\"><img src=\"https://colab.research.google.com/assets/colab-badge.svg\" alt=\"Open In Colab\"/></a>"
      ]
    },
    {
      "cell_type": "markdown",
      "metadata": {
        "id": "500dcc5c-4bbf-439f-9782-973572629044"
      },
      "source": [
        "# Logistic Regression으로 폐암의 양성 음성 분류"
      ],
      "id": "500dcc5c-4bbf-439f-9782-973572629044"
    },
    {
      "cell_type": "code",
      "metadata": {
        "id": "e982631e-99c1-425b-9ee7-b18a9e6f5a3c"
      },
      "source": [
        "import pandas as pd\n",
        "import numpy as np\n",
        "import matplotlib.pyplot as plt\n",
        "\n",
        "\n",
        "np.random.seed(2021)"
      ],
      "id": "e982631e-99c1-425b-9ee7-b18a9e6f5a3c",
      "execution_count": null,
      "outputs": []
    },
    {
      "cell_type": "markdown",
      "metadata": {
        "id": "aeffdfb1-3f41-4a03-b740-15b42ffe9730"
      },
      "source": [
        "## 1. Data"
      ],
      "id": "aeffdfb1-3f41-4a03-b740-15b42ffe9730"
    },
    {
      "cell_type": "markdown",
      "metadata": {
        "id": "8921531b-edba-414f-8cad-cc8eefdce8a2"
      },
      "source": [
        "이번 실습에서 사용하는 데이터는  폐암의 양성, 음성 여부를 구분하는 문제입니다."
      ],
      "id": "8921531b-edba-414f-8cad-cc8eefdce8a2"
    },
    {
      "cell_type": "markdown",
      "metadata": {
        "id": "c7ddfd5c-e30e-486a-aa4e-c6b0bb5a6959"
      },
      "source": [
        "### 1.1 Data Load\n",
        "데이터는 `sklearn.datasets` 의 `load_breast_cancer` 함수를 이용해 받을 수 있습니다."
      ],
      "id": "c7ddfd5c-e30e-486a-aa4e-c6b0bb5a6959"
    },
    {
      "cell_type": "code",
      "metadata": {
        "id": "edc8aa6a-6c52-4371-bb0c-020e264bfb04"
      },
      "source": [
        "from sklearn.datasets import load_breast_cancer\n",
        "\n",
        "\n",
        "cancer = load_breast_cancer()"
      ],
      "id": "edc8aa6a-6c52-4371-bb0c-020e264bfb04",
      "execution_count": null,
      "outputs": []
    },
    {
      "cell_type": "markdown",
      "metadata": {
        "id": "26dc6cc8-d5f1-4a7d-9bd3-b3d6586d3d01"
      },
      "source": [
        "데이터에서 사용되는 변수명을 확인하면 다음과 같습니다.\n",
        "- radius (mean of distances from center to points on the perimeter)\n",
        "- texture (standard deviation of gray-scale values)\n",
        "- perimeter\n",
        "- area\n",
        "- smoothness (local variation in radius lengths)\n",
        "- compactness (perimeter^2 / area - 1.0)\n",
        "- concavity (severity of concave portions of the contour)\n",
        "- concave points (number of concave portions of the contour)\n",
        "- symmetry \n",
        "- fractal dimension (\"coastline approximation\" - 1)"
      ],
      "id": "26dc6cc8-d5f1-4a7d-9bd3-b3d6586d3d01"
    },
    {
      "cell_type": "code",
      "metadata": {
        "colab": {
          "base_uri": "https://localhost:8080/"
        },
        "id": "3e9d1205-5049-4878-b0f1-9f86b7364137",
        "outputId": "51d315ed-35fd-4b97-f1d7-116a62c35d0f"
      },
      "source": [
        "cancer[\"feature_names\"]"
      ],
      "id": "3e9d1205-5049-4878-b0f1-9f86b7364137",
      "execution_count": null,
      "outputs": [
        {
          "output_type": "execute_result",
          "data": {
            "text/plain": [
              "array(['mean radius', 'mean texture', 'mean perimeter', 'mean area',\n",
              "       'mean smoothness', 'mean compactness', 'mean concavity',\n",
              "       'mean concave points', 'mean symmetry', 'mean fractal dimension',\n",
              "       'radius error', 'texture error', 'perimeter error', 'area error',\n",
              "       'smoothness error', 'compactness error', 'concavity error',\n",
              "       'concave points error', 'symmetry error',\n",
              "       'fractal dimension error', 'worst radius', 'worst texture',\n",
              "       'worst perimeter', 'worst area', 'worst smoothness',\n",
              "       'worst compactness', 'worst concavity', 'worst concave points',\n",
              "       'worst symmetry', 'worst fractal dimension'], dtype='<U23')"
            ]
          },
          "metadata": {},
          "execution_count": 56
        }
      ]
    },
    {
      "cell_type": "markdown",
      "metadata": {
        "id": "a4073aee-1b72-45d8-aaec-5743d4f7d7b1"
      },
      "source": [
        "정답을 확인하면 다음과 같습니다:\n",
        "- malignant\n",
        "- benign\n",
        "\n",
        "0은 양성, 1은 음성을 뜻합니다."
      ],
      "id": "a4073aee-1b72-45d8-aaec-5743d4f7d7b1"
    },
    {
      "cell_type": "code",
      "metadata": {
        "colab": {
          "base_uri": "https://localhost:8080/"
        },
        "id": "fb38ad51-7dd8-476e-8de0-5fafba1620ac",
        "outputId": "1c267a91-0399-468c-bdc8-80dfdb52a14e"
      },
      "source": [
        "cancer[\"target_names\"]"
      ],
      "id": "fb38ad51-7dd8-476e-8de0-5fafba1620ac",
      "execution_count": null,
      "outputs": [
        {
          "output_type": "execute_result",
          "data": {
            "text/plain": [
              "array(['malignant', 'benign'], dtype='<U9')"
            ]
          },
          "metadata": {},
          "execution_count": 57
        }
      ]
    },
    {
      "cell_type": "markdown",
      "metadata": {
        "id": "d012b979-8899-4157-99f9-71c962913d59"
      },
      "source": [
        "데이터와 정답을 확인해 보겠습니다."
      ],
      "id": "d012b979-8899-4157-99f9-71c962913d59"
    },
    {
      "cell_type": "code",
      "metadata": {
        "id": "70cf5eea-c9f8-43f5-a366-20591c90f779"
      },
      "source": [
        "data, target = cancer[\"data\"], cancer[\"target\"]"
      ],
      "id": "70cf5eea-c9f8-43f5-a366-20591c90f779",
      "execution_count": null,
      "outputs": []
    },
    {
      "cell_type": "code",
      "metadata": {
        "colab": {
          "base_uri": "https://localhost:8080/"
        },
        "id": "9508267b-40fe-4dae-9a83-afe86609fc7b",
        "outputId": "52526e9e-bc7c-4792-922c-738eca30b9e6"
      },
      "source": [
        "data[0]"
      ],
      "id": "9508267b-40fe-4dae-9a83-afe86609fc7b",
      "execution_count": null,
      "outputs": [
        {
          "output_type": "execute_result",
          "data": {
            "text/plain": [
              "array([1.799e+01, 1.038e+01, 1.228e+02, 1.001e+03, 1.184e-01, 2.776e-01,\n",
              "       3.001e-01, 1.471e-01, 2.419e-01, 7.871e-02, 1.095e+00, 9.053e-01,\n",
              "       8.589e+00, 1.534e+02, 6.399e-03, 4.904e-02, 5.373e-02, 1.587e-02,\n",
              "       3.003e-02, 6.193e-03, 2.538e+01, 1.733e+01, 1.846e+02, 2.019e+03,\n",
              "       1.622e-01, 6.656e-01, 7.119e-01, 2.654e-01, 4.601e-01, 1.189e-01])"
            ]
          },
          "metadata": {},
          "execution_count": 60
        }
      ]
    },
    {
      "cell_type": "code",
      "metadata": {
        "colab": {
          "base_uri": "https://localhost:8080/"
        },
        "id": "958ed5bb-fce1-4ee7-b1dc-3a5bd4fe7466",
        "outputId": "f985ab0c-5bd5-4b5f-f8e1-a872bc2a7342"
      },
      "source": [
        "target[0]"
      ],
      "id": "958ed5bb-fce1-4ee7-b1dc-3a5bd4fe7466",
      "execution_count": null,
      "outputs": [
        {
          "output_type": "execute_result",
          "data": {
            "text/plain": [
              "0"
            ]
          },
          "metadata": {},
          "execution_count": 61
        }
      ]
    },
    {
      "cell_type": "markdown",
      "metadata": {
        "id": "4d6fa99e-8d1b-4253-a677-13191fb6beea"
      },
      "source": [
        "### 1.2 Data EDA"
      ],
      "id": "4d6fa99e-8d1b-4253-a677-13191fb6beea"
    },
    {
      "cell_type": "code",
      "metadata": {
        "colab": {
          "base_uri": "https://localhost:8080/",
          "height": 351
        },
        "id": "1693e290-33e4-465f-b000-8996771e0fc9",
        "outputId": "bb6484df-3e6d-4531-8cec-2aaafb316b44"
      },
      "source": [
        "df = pd.DataFrame(data, columns=cancer[\"feature_names\"])\n",
        "df.describe()"
      ],
      "id": "1693e290-33e4-465f-b000-8996771e0fc9",
      "execution_count": null,
      "outputs": [
        {
          "output_type": "execute_result",
          "data": {
            "text/html": [
              "<div>\n",
              "<style scoped>\n",
              "    .dataframe tbody tr th:only-of-type {\n",
              "        vertical-align: middle;\n",
              "    }\n",
              "\n",
              "    .dataframe tbody tr th {\n",
              "        vertical-align: top;\n",
              "    }\n",
              "\n",
              "    .dataframe thead th {\n",
              "        text-align: right;\n",
              "    }\n",
              "</style>\n",
              "<table border=\"1\" class=\"dataframe\">\n",
              "  <thead>\n",
              "    <tr style=\"text-align: right;\">\n",
              "      <th></th>\n",
              "      <th>mean radius</th>\n",
              "      <th>mean texture</th>\n",
              "      <th>mean perimeter</th>\n",
              "      <th>mean area</th>\n",
              "      <th>mean smoothness</th>\n",
              "      <th>mean compactness</th>\n",
              "      <th>mean concavity</th>\n",
              "      <th>mean concave points</th>\n",
              "      <th>mean symmetry</th>\n",
              "      <th>mean fractal dimension</th>\n",
              "      <th>radius error</th>\n",
              "      <th>texture error</th>\n",
              "      <th>perimeter error</th>\n",
              "      <th>area error</th>\n",
              "      <th>smoothness error</th>\n",
              "      <th>compactness error</th>\n",
              "      <th>concavity error</th>\n",
              "      <th>concave points error</th>\n",
              "      <th>symmetry error</th>\n",
              "      <th>fractal dimension error</th>\n",
              "      <th>worst radius</th>\n",
              "      <th>worst texture</th>\n",
              "      <th>worst perimeter</th>\n",
              "      <th>worst area</th>\n",
              "      <th>worst smoothness</th>\n",
              "      <th>worst compactness</th>\n",
              "      <th>worst concavity</th>\n",
              "      <th>worst concave points</th>\n",
              "      <th>worst symmetry</th>\n",
              "      <th>worst fractal dimension</th>\n",
              "    </tr>\n",
              "  </thead>\n",
              "  <tbody>\n",
              "    <tr>\n",
              "      <th>count</th>\n",
              "      <td>569.000000</td>\n",
              "      <td>569.000000</td>\n",
              "      <td>569.000000</td>\n",
              "      <td>569.000000</td>\n",
              "      <td>569.000000</td>\n",
              "      <td>569.000000</td>\n",
              "      <td>569.000000</td>\n",
              "      <td>569.000000</td>\n",
              "      <td>569.000000</td>\n",
              "      <td>569.000000</td>\n",
              "      <td>569.000000</td>\n",
              "      <td>569.000000</td>\n",
              "      <td>569.000000</td>\n",
              "      <td>569.000000</td>\n",
              "      <td>569.000000</td>\n",
              "      <td>569.000000</td>\n",
              "      <td>569.000000</td>\n",
              "      <td>569.000000</td>\n",
              "      <td>569.000000</td>\n",
              "      <td>569.000000</td>\n",
              "      <td>569.000000</td>\n",
              "      <td>569.000000</td>\n",
              "      <td>569.000000</td>\n",
              "      <td>569.000000</td>\n",
              "      <td>569.000000</td>\n",
              "      <td>569.000000</td>\n",
              "      <td>569.000000</td>\n",
              "      <td>569.000000</td>\n",
              "      <td>569.000000</td>\n",
              "      <td>569.000000</td>\n",
              "    </tr>\n",
              "    <tr>\n",
              "      <th>mean</th>\n",
              "      <td>14.127292</td>\n",
              "      <td>19.289649</td>\n",
              "      <td>91.969033</td>\n",
              "      <td>654.889104</td>\n",
              "      <td>0.096360</td>\n",
              "      <td>0.104341</td>\n",
              "      <td>0.088799</td>\n",
              "      <td>0.048919</td>\n",
              "      <td>0.181162</td>\n",
              "      <td>0.062798</td>\n",
              "      <td>0.405172</td>\n",
              "      <td>1.216853</td>\n",
              "      <td>2.866059</td>\n",
              "      <td>40.337079</td>\n",
              "      <td>0.007041</td>\n",
              "      <td>0.025478</td>\n",
              "      <td>0.031894</td>\n",
              "      <td>0.011796</td>\n",
              "      <td>0.020542</td>\n",
              "      <td>0.003795</td>\n",
              "      <td>16.269190</td>\n",
              "      <td>25.677223</td>\n",
              "      <td>107.261213</td>\n",
              "      <td>880.583128</td>\n",
              "      <td>0.132369</td>\n",
              "      <td>0.254265</td>\n",
              "      <td>0.272188</td>\n",
              "      <td>0.114606</td>\n",
              "      <td>0.290076</td>\n",
              "      <td>0.083946</td>\n",
              "    </tr>\n",
              "    <tr>\n",
              "      <th>std</th>\n",
              "      <td>3.524049</td>\n",
              "      <td>4.301036</td>\n",
              "      <td>24.298981</td>\n",
              "      <td>351.914129</td>\n",
              "      <td>0.014064</td>\n",
              "      <td>0.052813</td>\n",
              "      <td>0.079720</td>\n",
              "      <td>0.038803</td>\n",
              "      <td>0.027414</td>\n",
              "      <td>0.007060</td>\n",
              "      <td>0.277313</td>\n",
              "      <td>0.551648</td>\n",
              "      <td>2.021855</td>\n",
              "      <td>45.491006</td>\n",
              "      <td>0.003003</td>\n",
              "      <td>0.017908</td>\n",
              "      <td>0.030186</td>\n",
              "      <td>0.006170</td>\n",
              "      <td>0.008266</td>\n",
              "      <td>0.002646</td>\n",
              "      <td>4.833242</td>\n",
              "      <td>6.146258</td>\n",
              "      <td>33.602542</td>\n",
              "      <td>569.356993</td>\n",
              "      <td>0.022832</td>\n",
              "      <td>0.157336</td>\n",
              "      <td>0.208624</td>\n",
              "      <td>0.065732</td>\n",
              "      <td>0.061867</td>\n",
              "      <td>0.018061</td>\n",
              "    </tr>\n",
              "    <tr>\n",
              "      <th>min</th>\n",
              "      <td>6.981000</td>\n",
              "      <td>9.710000</td>\n",
              "      <td>43.790000</td>\n",
              "      <td>143.500000</td>\n",
              "      <td>0.052630</td>\n",
              "      <td>0.019380</td>\n",
              "      <td>0.000000</td>\n",
              "      <td>0.000000</td>\n",
              "      <td>0.106000</td>\n",
              "      <td>0.049960</td>\n",
              "      <td>0.111500</td>\n",
              "      <td>0.360200</td>\n",
              "      <td>0.757000</td>\n",
              "      <td>6.802000</td>\n",
              "      <td>0.001713</td>\n",
              "      <td>0.002252</td>\n",
              "      <td>0.000000</td>\n",
              "      <td>0.000000</td>\n",
              "      <td>0.007882</td>\n",
              "      <td>0.000895</td>\n",
              "      <td>7.930000</td>\n",
              "      <td>12.020000</td>\n",
              "      <td>50.410000</td>\n",
              "      <td>185.200000</td>\n",
              "      <td>0.071170</td>\n",
              "      <td>0.027290</td>\n",
              "      <td>0.000000</td>\n",
              "      <td>0.000000</td>\n",
              "      <td>0.156500</td>\n",
              "      <td>0.055040</td>\n",
              "    </tr>\n",
              "    <tr>\n",
              "      <th>25%</th>\n",
              "      <td>11.700000</td>\n",
              "      <td>16.170000</td>\n",
              "      <td>75.170000</td>\n",
              "      <td>420.300000</td>\n",
              "      <td>0.086370</td>\n",
              "      <td>0.064920</td>\n",
              "      <td>0.029560</td>\n",
              "      <td>0.020310</td>\n",
              "      <td>0.161900</td>\n",
              "      <td>0.057700</td>\n",
              "      <td>0.232400</td>\n",
              "      <td>0.833900</td>\n",
              "      <td>1.606000</td>\n",
              "      <td>17.850000</td>\n",
              "      <td>0.005169</td>\n",
              "      <td>0.013080</td>\n",
              "      <td>0.015090</td>\n",
              "      <td>0.007638</td>\n",
              "      <td>0.015160</td>\n",
              "      <td>0.002248</td>\n",
              "      <td>13.010000</td>\n",
              "      <td>21.080000</td>\n",
              "      <td>84.110000</td>\n",
              "      <td>515.300000</td>\n",
              "      <td>0.116600</td>\n",
              "      <td>0.147200</td>\n",
              "      <td>0.114500</td>\n",
              "      <td>0.064930</td>\n",
              "      <td>0.250400</td>\n",
              "      <td>0.071460</td>\n",
              "    </tr>\n",
              "    <tr>\n",
              "      <th>50%</th>\n",
              "      <td>13.370000</td>\n",
              "      <td>18.840000</td>\n",
              "      <td>86.240000</td>\n",
              "      <td>551.100000</td>\n",
              "      <td>0.095870</td>\n",
              "      <td>0.092630</td>\n",
              "      <td>0.061540</td>\n",
              "      <td>0.033500</td>\n",
              "      <td>0.179200</td>\n",
              "      <td>0.061540</td>\n",
              "      <td>0.324200</td>\n",
              "      <td>1.108000</td>\n",
              "      <td>2.287000</td>\n",
              "      <td>24.530000</td>\n",
              "      <td>0.006380</td>\n",
              "      <td>0.020450</td>\n",
              "      <td>0.025890</td>\n",
              "      <td>0.010930</td>\n",
              "      <td>0.018730</td>\n",
              "      <td>0.003187</td>\n",
              "      <td>14.970000</td>\n",
              "      <td>25.410000</td>\n",
              "      <td>97.660000</td>\n",
              "      <td>686.500000</td>\n",
              "      <td>0.131300</td>\n",
              "      <td>0.211900</td>\n",
              "      <td>0.226700</td>\n",
              "      <td>0.099930</td>\n",
              "      <td>0.282200</td>\n",
              "      <td>0.080040</td>\n",
              "    </tr>\n",
              "    <tr>\n",
              "      <th>75%</th>\n",
              "      <td>15.780000</td>\n",
              "      <td>21.800000</td>\n",
              "      <td>104.100000</td>\n",
              "      <td>782.700000</td>\n",
              "      <td>0.105300</td>\n",
              "      <td>0.130400</td>\n",
              "      <td>0.130700</td>\n",
              "      <td>0.074000</td>\n",
              "      <td>0.195700</td>\n",
              "      <td>0.066120</td>\n",
              "      <td>0.478900</td>\n",
              "      <td>1.474000</td>\n",
              "      <td>3.357000</td>\n",
              "      <td>45.190000</td>\n",
              "      <td>0.008146</td>\n",
              "      <td>0.032450</td>\n",
              "      <td>0.042050</td>\n",
              "      <td>0.014710</td>\n",
              "      <td>0.023480</td>\n",
              "      <td>0.004558</td>\n",
              "      <td>18.790000</td>\n",
              "      <td>29.720000</td>\n",
              "      <td>125.400000</td>\n",
              "      <td>1084.000000</td>\n",
              "      <td>0.146000</td>\n",
              "      <td>0.339100</td>\n",
              "      <td>0.382900</td>\n",
              "      <td>0.161400</td>\n",
              "      <td>0.317900</td>\n",
              "      <td>0.092080</td>\n",
              "    </tr>\n",
              "    <tr>\n",
              "      <th>max</th>\n",
              "      <td>28.110000</td>\n",
              "      <td>39.280000</td>\n",
              "      <td>188.500000</td>\n",
              "      <td>2501.000000</td>\n",
              "      <td>0.163400</td>\n",
              "      <td>0.345400</td>\n",
              "      <td>0.426800</td>\n",
              "      <td>0.201200</td>\n",
              "      <td>0.304000</td>\n",
              "      <td>0.097440</td>\n",
              "      <td>2.873000</td>\n",
              "      <td>4.885000</td>\n",
              "      <td>21.980000</td>\n",
              "      <td>542.200000</td>\n",
              "      <td>0.031130</td>\n",
              "      <td>0.135400</td>\n",
              "      <td>0.396000</td>\n",
              "      <td>0.052790</td>\n",
              "      <td>0.078950</td>\n",
              "      <td>0.029840</td>\n",
              "      <td>36.040000</td>\n",
              "      <td>49.540000</td>\n",
              "      <td>251.200000</td>\n",
              "      <td>4254.000000</td>\n",
              "      <td>0.222600</td>\n",
              "      <td>1.058000</td>\n",
              "      <td>1.252000</td>\n",
              "      <td>0.291000</td>\n",
              "      <td>0.663800</td>\n",
              "      <td>0.207500</td>\n",
              "    </tr>\n",
              "  </tbody>\n",
              "</table>\n",
              "</div>"
            ],
            "text/plain": [
              "       mean radius  mean texture  ...  worst symmetry  worst fractal dimension\n",
              "count   569.000000    569.000000  ...      569.000000               569.000000\n",
              "mean     14.127292     19.289649  ...        0.290076                 0.083946\n",
              "std       3.524049      4.301036  ...        0.061867                 0.018061\n",
              "min       6.981000      9.710000  ...        0.156500                 0.055040\n",
              "25%      11.700000     16.170000  ...        0.250400                 0.071460\n",
              "50%      13.370000     18.840000  ...        0.282200                 0.080040\n",
              "75%      15.780000     21.800000  ...        0.317900                 0.092080\n",
              "max      28.110000     39.280000  ...        0.663800                 0.207500\n",
              "\n",
              "[8 rows x 30 columns]"
            ]
          },
          "metadata": {},
          "execution_count": 62
        }
      ]
    },
    {
      "cell_type": "code",
      "metadata": {
        "colab": {
          "base_uri": "https://localhost:8080/"
        },
        "id": "ic2W3Ve1DR-1",
        "outputId": "f9ad9648-22bf-4e21-9463-95723e43d941"
      },
      "source": [
        "data.shape"
      ],
      "id": "ic2W3Ve1DR-1",
      "execution_count": null,
      "outputs": [
        {
          "output_type": "execute_result",
          "data": {
            "text/plain": [
              "(569, 30)"
            ]
          },
          "metadata": {},
          "execution_count": 63
        }
      ]
    },
    {
      "cell_type": "markdown",
      "metadata": {
        "id": "a2b8d74e-4f0e-4a6f-a67c-f55308b3d56b"
      },
      "source": [
        "양성과 음성의 비율은 다음과 같습니다."
      ],
      "id": "a2b8d74e-4f0e-4a6f-a67c-f55308b3d56b"
    },
    {
      "cell_type": "code",
      "metadata": {
        "colab": {
          "base_uri": "https://localhost:8080/"
        },
        "id": "26dfdb8b-10ce-4cbd-b88e-a20bf770d204",
        "outputId": "f967ecf0-0afe-4c8c-c007-c5fff0788cc6"
      },
      "source": [
        "pd.Series(target).value_counts()"
      ],
      "id": "26dfdb8b-10ce-4cbd-b88e-a20bf770d204",
      "execution_count": null,
      "outputs": [
        {
          "output_type": "execute_result",
          "data": {
            "text/plain": [
              "1    357\n",
              "0    212\n",
              "dtype: int64"
            ]
          },
          "metadata": {},
          "execution_count": 64
        }
      ]
    },
    {
      "cell_type": "markdown",
      "metadata": {
        "id": "61aba6b2-921e-4108-a7af-7f04c51f531c"
      },
      "source": [
        "Histogram으로 그리면 다음과 같습니다."
      ],
      "id": "61aba6b2-921e-4108-a7af-7f04c51f531c"
    },
    {
      "cell_type": "code",
      "metadata": {
        "colab": {
          "base_uri": "https://localhost:8080/",
          "height": 316
        },
        "id": "e1a6aff5-d1c0-4b15-a5a8-bfe09a7094df",
        "outputId": "4790ae47-5dac-4453-b1d2-d86e5d552a09"
      },
      "source": [
        "plt.hist(target)"
      ],
      "id": "e1a6aff5-d1c0-4b15-a5a8-bfe09a7094df",
      "execution_count": null,
      "outputs": [
        {
          "output_type": "execute_result",
          "data": {
            "text/plain": [
              "(array([212.,   0.,   0.,   0.,   0.,   0.,   0.,   0.,   0., 357.]),\n",
              " array([0. , 0.1, 0.2, 0.3, 0.4, 0.5, 0.6, 0.7, 0.8, 0.9, 1. ]),\n",
              " <a list of 10 Patch objects>)"
            ]
          },
          "metadata": {},
          "execution_count": 65
        },
        {
          "output_type": "display_data",
          "data": {
            "image/png": "[encoded data removed]",
            "text/plain": [
              "<Figure size 432x288 with 1 Axes>"
            ]
          },
          "metadata": {
            "needs_background": "light"
          }
        }
      ]
    },
    {
      "cell_type": "markdown",
      "metadata": {
        "id": "f2000556-2721-4c22-8321-4aed65f44a34"
      },
      "source": [
        "mean radius와 정답간의 상관관계를 plot으로 그리면 다음과 같습니다.  \n",
        "mean radius가 클 경우 음성인 것을 확인할 수 있습니다."
      ],
      "id": "f2000556-2721-4c22-8321-4aed65f44a34"
    },
    {
      "cell_type": "code",
      "metadata": {
        "colab": {
          "base_uri": "https://localhost:8080/",
          "height": 296
        },
        "id": "64e0d808-4a1d-4bb1-9ddf-7568447ded46",
        "outputId": "d4710d9c-e8d9-4d03-9d35-bf0d6fc97285"
      },
      "source": [
        "plt.scatter(x=data[:,0], y=target)\n",
        "plt.xlabel(\"mean radius\")\n",
        "plt.ylabel(\"target\")"
      ],
      "id": "64e0d808-4a1d-4bb1-9ddf-7568447ded46",
      "execution_count": null,
      "outputs": [
        {
          "output_type": "execute_result",
          "data": {
            "text/plain": [
              "Text(0, 0.5, 'target')"
            ]
          },
          "metadata": {},
          "execution_count": 66
        },
        {
          "output_type": "display_data",
          "data": {
            "image/png": "[encoded data removed]",
            "text/plain": [
              "<Figure size 432x288 with 1 Axes>"
            ]
          },
          "metadata": {
            "needs_background": "light"
          }
        }
      ]
    },
    {
      "cell_type": "markdown",
      "metadata": {
        "id": "bc1d3db9-b511-47a1-b481-ac1d86d5e2ad"
      },
      "source": [
        "### 1.3 Data Split"
      ],
      "id": "bc1d3db9-b511-47a1-b481-ac1d86d5e2ad"
    },
    {
      "cell_type": "code",
      "metadata": {
        "id": "39a49031-f18e-44d9-a576-3c0c93099e3e"
      },
      "source": [
        "from sklearn.model_selection import train_test_split\n",
        "\n",
        "train_data, test_data, train_target, test_target = train_test_split(\n",
        "    data, target, train_size=0.7, random_state=2021,\n",
        ")"
      ],
      "id": "39a49031-f18e-44d9-a576-3c0c93099e3e",
      "execution_count": null,
      "outputs": []
    },
    {
      "cell_type": "code",
      "metadata": {
        "colab": {
          "base_uri": "https://localhost:8080/"
        },
        "id": "9e1b228c-6480-47df-9662-2acf5a5998f6",
        "outputId": "c1958dc9-1376-4b75-d9e3-7c809462e16b"
      },
      "source": [
        "print(\"train data 개수:\", len(train_data))\n",
        "print(\"test data 개수:\", len(test_data))"
      ],
      "id": "9e1b228c-6480-47df-9662-2acf5a5998f6",
      "execution_count": null,
      "outputs": [
        {
          "output_type": "stream",
          "name": "stdout",
          "text": [
            "train data 개수: 398\n",
            "test data 개수: 171\n"
          ]
        }
      ]
    },
    {
      "cell_type": "markdown",
      "metadata": {
        "id": "f11199cf-76fa-4509-825f-2da2759b47c6"
      },
      "source": [
        "## 2. Linear Regression and Categorical Label"
      ],
      "id": "f11199cf-76fa-4509-825f-2da2759b47c6"
    },
    {
      "cell_type": "markdown",
      "metadata": {
        "id": "9057eab6-61f1-47cd-8be5-c11d1afbd90f"
      },
      "source": [
        "Logistic Regression을 학습하기에 앞서 Linear Regression으로 학습할 경우 어떻게 되는지 확인해 보겠습니다."
      ],
      "id": "9057eab6-61f1-47cd-8be5-c11d1afbd90f"
    },
    {
      "cell_type": "code",
      "metadata": {
        "id": "75b70c7f-f752-41a2-8dfd-a5e68e357a33"
      },
      "source": [
        "from sklearn.linear_model import LinearRegression\n",
        "\n",
        "linear_regressor = LinearRegression()"
      ],
      "id": "75b70c7f-f752-41a2-8dfd-a5e68e357a33",
      "execution_count": null,
      "outputs": []
    },
    {
      "cell_type": "markdown",
      "metadata": {
        "id": "dd93db5c-be18-461e-b7df-44ce2bf1c1e1"
      },
      "source": [
        "### 2.1 학습"
      ],
      "id": "dd93db5c-be18-461e-b7df-44ce2bf1c1e1"
    },
    {
      "cell_type": "code",
      "metadata": {
        "colab": {
          "base_uri": "https://localhost:8080/"
        },
        "id": "348ef8f4-3055-466a-ac60-774631485e5c",
        "outputId": "ac04842f-43d8-4c7f-af95-43ddefd9d440"
      },
      "source": [
        "linear_regressor.fit(train_data, train_target)"
      ],
      "id": "348ef8f4-3055-466a-ac60-774631485e5c",
      "execution_count": null,
      "outputs": [
        {
          "output_type": "execute_result",
          "data": {
            "text/plain": [
              "LinearRegression(copy_X=True, fit_intercept=True, n_jobs=None, normalize=False)"
            ]
          },
          "metadata": {},
          "execution_count": 71
        }
      ]
    },
    {
      "cell_type": "markdown",
      "metadata": {
        "id": "22434622-c57f-4e86-805f-7461351ebe1a"
      },
      "source": [
        "### 2.2 예측"
      ],
      "id": "22434622-c57f-4e86-805f-7461351ebe1a"
    },
    {
      "cell_type": "code",
      "metadata": {
        "id": "f3b71278-5fc9-4c89-8a90-6d3185725dd0"
      },
      "source": [
        "train_pred = linear_regressor.predict(train_data)\n",
        "test_pred = linear_regressor.predict(test_data)"
      ],
      "id": "f3b71278-5fc9-4c89-8a90-6d3185725dd0",
      "execution_count": null,
      "outputs": []
    },
    {
      "cell_type": "markdown",
      "metadata": {
        "id": "92b52bc1-5500-42fa-b623-46c500e92aec"
      },
      "source": [
        "예측한 결과를 보면 0~1사이를 벗어난 예측값을 많이 볼 수 있습니다."
      ],
      "id": "92b52bc1-5500-42fa-b623-46c500e92aec"
    },
    {
      "cell_type": "code",
      "metadata": {
        "colab": {
          "base_uri": "https://localhost:8080/"
        },
        "id": "c93043e1-ece7-496f-a807-1890ee22f5c1",
        "outputId": "1da12691-6393-4932-a30f-ad49dffb2dd2"
      },
      "source": [
        "train_pred[:10]"
      ],
      "id": "c93043e1-ece7-496f-a807-1890ee22f5c1",
      "execution_count": null,
      "outputs": [
        {
          "output_type": "execute_result",
          "data": {
            "text/plain": [
              "array([ 0.65079698, -0.33739828,  0.76995559,  1.07473181,  0.98981797,\n",
              "       -0.14066351,  0.91330917,  0.56950769,  1.12592692,  1.08459606])"
            ]
          },
          "metadata": {},
          "execution_count": 73
        }
      ]
    },
    {
      "cell_type": "markdown",
      "metadata": {
        "id": "e18a3b4d-72bb-4fc7-ac88-ff4cc42de645"
      },
      "source": [
        "### 2.3 시각화"
      ],
      "id": "e18a3b4d-72bb-4fc7-ac88-ff4cc42de645"
    },
    {
      "cell_type": "markdown",
      "metadata": {
        "id": "0b341614-7c88-4120-ab60-69600f31603d"
      },
      "source": [
        "mean_radius의 값에 변화에 따른 예측한 결과를 시각화하면 다음과 같습니다.  \n",
        "전체적으로 우하향하는 예측을 하는 것을 알 수 있습니다."
      ],
      "id": "0b341614-7c88-4120-ab60-69600f31603d"
    },
    {
      "cell_type": "code",
      "metadata": {
        "colab": {
          "base_uri": "https://localhost:8080/",
          "height": 351
        },
        "id": "0a87aeee-9c3c-466c-89a3-eaf5d09afd06",
        "outputId": "1cbcc19c-a746-4722-f4c2-7664a0424da9"
      },
      "source": [
        "fig, axes = plt.subplots(nrows=1, ncols=2, figsize=(10, 5))\n",
        "\n",
        "preds = [\n",
        "    (\"Train\", train_data, train_pred),\n",
        "    (\"Test\", test_data, test_pred),\n",
        "]\n",
        "for idx, (name, d, pred) in enumerate(preds):\n",
        "    ax = axes[idx]\n",
        "    ax.scatter(x=d[:,0], y=pred)\n",
        "    ax.axhline(0, color=\"red\", linestyle=\"--\")\n",
        "    ax.axhline(1, color=\"red\", linestyle=\"--\")\n",
        "    ax.set_xlabel(\"mean_radius\")\n",
        "    ax.set_ylabel(\"predict\")\n",
        "    ax.set_title(f\"{name} Data\")"
      ],
      "id": "0a87aeee-9c3c-466c-89a3-eaf5d09afd06",
      "execution_count": null,
      "outputs": [
        {
          "output_type": "display_data",
          "data": {
            "image/png": "[encoded data removed]",
            "text/plain": [
              "<Figure size 720x360 with 2 Axes>"
            ]
          },
          "metadata": {
            "needs_background": "light"
          }
        }
      ]
    },
    {
      "cell_type": "markdown",
      "metadata": {
        "id": "52d3553c-f0cf-4ebf-8a02-7c6a4559ab30"
      },
      "source": [
        "### 2.4 평가하기"
      ],
      "id": "52d3553c-f0cf-4ebf-8a02-7c6a4559ab30"
    },
    {
      "cell_type": "markdown",
      "metadata": {
        "id": "8d8a8fca-595c-4950-9744-a97f5c1173c8"
      },
      "source": [
        "Linear Regression의 성능을 측정하기 위해서는 우선 예측값을 0과 1로 변환시켜줘야 합니다.  \n",
        "강의에서 배웠던 Youden's Index를 이용해 Best Threshold를 찾은 후 0과 1로 변화시킨 후 정확도를 보겠습니다.  "
      ],
      "id": "8d8a8fca-595c-4950-9744-a97f5c1173c8"
    },
    {
      "cell_type": "code",
      "metadata": {
        "id": "eb462604-6d58-41fb-97c2-551e84b9be88"
      },
      "source": [
        "from sklearn.metrics import auc, roc_curve\n",
        "\n",
        "fpr, tpr, threshold = roc_curve(train_target, train_pred)\n",
        "auroc = auc(fpr, tpr)"
      ],
      "id": "eb462604-6d58-41fb-97c2-551e84b9be88",
      "execution_count": null,
      "outputs": []
    },
    {
      "cell_type": "code",
      "metadata": {
        "colab": {
          "base_uri": "https://localhost:8080/"
        },
        "id": "YOr_S1UWEJLI",
        "outputId": "ff6e89df-6d64-418a-a2d6-afd225b83ac6"
      },
      "source": [
        "fpr"
      ],
      "id": "YOr_S1UWEJLI",
      "execution_count": null,
      "outputs": [
        {
          "output_type": "execute_result",
          "data": {
            "text/plain": [
              "array([0.        , 0.        , 0.        , 0.00675676, 0.00675676,\n",
              "       0.01351351, 0.01351351, 0.02027027, 0.02027027, 0.02702703,\n",
              "       0.02702703, 0.05405405, 0.05405405, 0.10810811, 0.10810811,\n",
              "       1.        ])"
            ]
          },
          "metadata": {},
          "execution_count": 77
        }
      ]
    },
    {
      "cell_type": "code",
      "metadata": {
        "colab": {
          "base_uri": "https://localhost:8080/"
        },
        "id": "3qBTtxo3EKvQ",
        "outputId": "02c12779-824e-4db0-ee8a-a07414d58d20"
      },
      "source": [
        "tpr"
      ],
      "id": "3qBTtxo3EKvQ",
      "execution_count": null,
      "outputs": [
        {
          "output_type": "execute_result",
          "data": {
            "text/plain": [
              "array([0.   , 0.004, 0.86 , 0.86 , 0.928, 0.928, 0.98 , 0.98 , 0.988,\n",
              "       0.988, 0.992, 0.992, 0.996, 0.996, 1.   , 1.   ])"
            ]
          },
          "metadata": {},
          "execution_count": 78
        }
      ]
    },
    {
      "cell_type": "code",
      "metadata": {
        "colab": {
          "base_uri": "https://localhost:8080/"
        },
        "id": "2dSZ4tceEL2z",
        "outputId": "08627419-5458-417b-ff08-5cc8abb75b80"
      },
      "source": [
        "threshold"
      ],
      "id": "2dSZ4tceEL2z",
      "execution_count": null,
      "outputs": [
        {
          "output_type": "execute_result",
          "data": {
            "text/plain": [
              "array([ 2.3431729 ,  1.3431729 ,  0.74268219,  0.74137999,  0.69609319,\n",
              "        0.68867913,  0.63316544,  0.62480986,  0.58612053,  0.58042965,\n",
              "        0.57594808,  0.55461919,  0.53720045,  0.44439165,  0.44218128,\n",
              "       -0.56296658])"
            ]
          },
          "metadata": {},
          "execution_count": 79
        }
      ]
    },
    {
      "cell_type": "markdown",
      "metadata": {
        "id": "2dbcda14-71bb-4490-9b33-4f6bb65050e2"
      },
      "source": [
        "우선 AUROC 를 그려보겠습니다."
      ],
      "id": "2dbcda14-71bb-4490-9b33-4f6bb65050e2"
    },
    {
      "cell_type": "code",
      "metadata": {
        "colab": {
          "base_uri": "https://localhost:8080/",
          "height": 296
        },
        "id": "b654ee9b-ef04-4876-bd68-0cc24990cea2",
        "outputId": "7f5dc716-6b3e-4128-d880-a68848b2e8d9"
      },
      "source": [
        "plt.plot(fpr, tpr)\n",
        "plt.xlabel(\"fpr\")\n",
        "plt.ylabel(\"tpr\")"
      ],
      "id": "b654ee9b-ef04-4876-bd68-0cc24990cea2",
      "execution_count": null,
      "outputs": [
        {
          "output_type": "execute_result",
          "data": {
            "text/plain": [
              "Text(0, 0.5, 'tpr')"
            ]
          },
          "metadata": {},
          "execution_count": 80
        },
        {
          "output_type": "display_data",
          "data": {
            "image/png": "[encoded data removed]",
            "text/plain": [
              "<Figure size 432x288 with 1 Axes>"
            ]
          },
          "metadata": {
            "needs_background": "light"
          }
        }
      ]
    },
    {
      "cell_type": "markdown",
      "metadata": {
        "id": "5ebf0c37-7d85-45cc-929b-214c467c7e69"
      },
      "source": [
        "AUROC 값을 계산하면 다음과 같습니다."
      ],
      "id": "5ebf0c37-7d85-45cc-929b-214c467c7e69"
    },
    {
      "cell_type": "code",
      "metadata": {
        "colab": {
          "base_uri": "https://localhost:8080/"
        },
        "id": "927ad689-95e0-47a6-9402-6fb7808fd671",
        "outputId": "2a7d4192-80a9-456a-9211-762248fc09f4"
      },
      "source": [
        "print(f\"AUROC : {auroc:.4f}\")"
      ],
      "id": "927ad689-95e0-47a6-9402-6fb7808fd671",
      "execution_count": null,
      "outputs": [
        {
          "output_type": "stream",
          "name": "stdout",
          "text": [
            "AUROC : 0.9979\n"
          ]
        }
      ]
    },
    {
      "cell_type": "markdown",
      "metadata": {
        "id": "267cab88-457b-4a26-9334-ad9aae2d4bbe"
      },
      "source": [
        "이제 Best Threshold를 계산해 보겠습니다."
      ],
      "id": "267cab88-457b-4a26-9334-ad9aae2d4bbe"
    },
    {
      "cell_type": "code",
      "metadata": {
        "colab": {
          "base_uri": "https://localhost:8080/"
        },
        "id": "uq2aVgxREW_T",
        "outputId": "cc647d8e-abad-4319-e1ab-5d78ce309366"
      },
      "source": [
        "np.argmax(tpr - fpr)"
      ],
      "id": "uq2aVgxREW_T",
      "execution_count": null,
      "outputs": [
        {
          "output_type": "execute_result",
          "data": {
            "text/plain": [
              "8"
            ]
          },
          "metadata": {},
          "execution_count": 83
        }
      ]
    },
    {
      "cell_type": "code",
      "metadata": {
        "colab": {
          "base_uri": "https://localhost:8080/"
        },
        "id": "7c31c2b2-185d-4d95-93e9-748a77991b77",
        "outputId": "f30d26af-e7bb-48de-ecd5-30ae1f33c596"
      },
      "source": [
        "J = tpr - fpr\n",
        "idx = np.argmax(J)\n",
        "best_thresh = threshold[idx]\n",
        "print(f\"Best Threshold is {best_thresh:.4f}\")\n",
        "print(f\"Best Threshold's sensitivity is {tpr[idx]:.4f}\")\n",
        "print(f\"Best Threshold's specificity is {1-fpr[idx]:.4f}\")\n",
        "print(f\"Best Threshold's J is {J[idx]:.4f}\")"
      ],
      "id": "7c31c2b2-185d-4d95-93e9-748a77991b77",
      "execution_count": null,
      "outputs": [
        {
          "output_type": "stream",
          "name": "stdout",
          "text": [
            "Best Threshold is 0.5861\n",
            "Best Threshold's sensitivity is 0.9880\n",
            "Best Threshold's specificity is 0.9797\n",
            "Best Threshold's J is 0.9677\n"
          ]
        }
      ]
    },
    {
      "cell_type": "markdown",
      "metadata": {
        "id": "ff459fc6-1d26-47b4-afcc-16b136ebff19"
      },
      "source": [
        "Best Threshold는 AUROC 그래프에서 직선이 가장 긴 곳입니다.  \n",
        "한번 Plot을 직접 그려보겠습니다."
      ],
      "id": "ff459fc6-1d26-47b4-afcc-16b136ebff19"
    },
    {
      "cell_type": "code",
      "metadata": {
        "colab": {
          "base_uri": "https://localhost:8080/",
          "height": 296
        },
        "id": "15bdc3f4-298a-444a-93d4-731683e04f77",
        "outputId": "a55ea520-98e0-48aa-cf7a-553019a70c6f"
      },
      "source": [
        "plt.plot(fpr, tpr)\n",
        "plt.plot(np.linspace(0, 1, 10), np.linspace(0, 1, 10))\n",
        "plt.plot((fpr[idx], fpr[idx]), (fpr[idx], tpr[idx]), color=\"red\", linestyle=\"--\")\n",
        "plt.xlabel(\"fpr\")\n",
        "plt.ylabel(\"tpr\")"
      ],
      "id": "15bdc3f4-298a-444a-93d4-731683e04f77",
      "execution_count": null,
      "outputs": [
        {
          "output_type": "execute_result",
          "data": {
            "text/plain": [
              "Text(0, 0.5, 'tpr')"
            ]
          },
          "metadata": {},
          "execution_count": 85
        },
        {
          "output_type": "display_data",
          "data": {
            "image/png": "[encoded data removed]",
            "text/plain": [
              "<Figure size 432x288 with 1 Axes>"
            ]
          },
          "metadata": {
            "needs_background": "light"
          }
        }
      ]
    },
    {
      "cell_type": "markdown",
      "metadata": {
        "id": "ade29ed5-2628-414b-a28a-93b5fd9f0b45"
      },
      "source": [
        "예측값에서의 Best threshold의 위치를 그려보겠습니다."
      ],
      "id": "ade29ed5-2628-414b-a28a-93b5fd9f0b45"
    },
    {
      "cell_type": "code",
      "metadata": {
        "colab": {
          "base_uri": "https://localhost:8080/",
          "height": 351
        },
        "id": "de57d4e2-bcd0-47ae-a4e0-091b934aa8ee",
        "outputId": "10a3067d-6818-4c07-838a-20bc7fea7f7a"
      },
      "source": [
        "fig, axes = plt.subplots(nrows=1, ncols=2, figsize=(10, 5))\n",
        "\n",
        "preds = [\n",
        "    (\"Train\", train_data, train_pred),\n",
        "    (\"Test\", test_data, test_pred),\n",
        "]\n",
        "for idx, (name, d, pred) in enumerate(preds):\n",
        "    ax = axes[idx]\n",
        "    ax.scatter(x=d[:,0], y=pred)\n",
        "    ax.axhline(0, color=\"red\", linestyle=\"--\")\n",
        "    ax.axhline(1, color=\"red\", linestyle=\"--\")\n",
        "    ax.set_xlabel(\"mean_radius\")\n",
        "    ax.set_ylabel(\"predict\")\n",
        "    ax.set_title(f\"{name} Data\")\n",
        "    ax.axhline(best_thresh, color=\"blue\")"
      ],
      "id": "de57d4e2-bcd0-47ae-a4e0-091b934aa8ee",
      "execution_count": null,
      "outputs": [
        {
          "output_type": "display_data",
          "data": {
            "image/png": "[encoded data removed]",
            "text/plain": [
              "<Figure size 720x360 with 2 Axes>"
            ]
          },
          "metadata": {
            "needs_background": "light"
          }
        }
      ]
    },
    {
      "cell_type": "markdown",
      "metadata": {
        "id": "9ae9eee4-3be1-4588-b3a6-5c083600b939"
      },
      "source": [
        "이제 Threshold로 예측값을 0,1로 변환 후 정확도를 보겠습니다."
      ],
      "id": "9ae9eee4-3be1-4588-b3a6-5c083600b939"
    },
    {
      "cell_type": "code",
      "metadata": {
        "id": "8946a380-fa6d-4bde-ba0c-0a288e3e1072"
      },
      "source": [
        "train_pred_label = list(map(int, (train_pred > best_thresh)))\n",
        "test_pred_label = list(map(int, (test_pred > best_thresh)))"
      ],
      "id": "8946a380-fa6d-4bde-ba0c-0a288e3e1072",
      "execution_count": null,
      "outputs": []
    },
    {
      "cell_type": "code",
      "metadata": {
        "id": "c74474ad-1c09-41c9-9eeb-180174af6b31"
      },
      "source": [
        "from sklearn.metrics import accuracy_score\n",
        "\n",
        "\n",
        "linear_train_accuracy = accuracy_score(train_target, train_pred_label)\n",
        "linear_test_accuracy = accuracy_score(test_target, test_pred_label)"
      ],
      "id": "c74474ad-1c09-41c9-9eeb-180174af6b31",
      "execution_count": null,
      "outputs": []
    },
    {
      "cell_type": "code",
      "metadata": {
        "colab": {
          "base_uri": "https://localhost:8080/"
        },
        "id": "30f39fe3-dd3b-4100-9330-f84f54ad4ac5",
        "outputId": "7cf346bd-de5b-4a48-9b81-3018df6ea6e1"
      },
      "source": [
        "print(f\"Train accuracy is : {linear_train_accuracy:.2f}\")\n",
        "print(f\"Test accuracy is : {linear_test_accuracy:.2f}\")"
      ],
      "id": "30f39fe3-dd3b-4100-9330-f84f54ad4ac5",
      "execution_count": null,
      "outputs": [
        {
          "output_type": "stream",
          "name": "stdout",
          "text": [
            "Train accuracy is : 0.98\n",
            "Test accuracy is : 0.96\n"
          ]
        }
      ]
    },
    {
      "cell_type": "markdown",
      "metadata": {
        "id": "42d1f346-04ed-4b3b-84d0-7e4c5b021496"
      },
      "source": [
        "## 3. Logistic Regression"
      ],
      "id": "42d1f346-04ed-4b3b-84d0-7e4c5b021496"
    },
    {
      "cell_type": "markdown",
      "metadata": {
        "id": "b0b49f50-31a0-4a89-b5fd-da331b8b70c5"
      },
      "source": [
        "이번에는 Logistic Regression을 이용해 예측을 해보겠습니다."
      ],
      "id": "b0b49f50-31a0-4a89-b5fd-da331b8b70c5"
    },
    {
      "cell_type": "markdown",
      "metadata": {
        "id": "5f63b875-e6cd-4fad-a946-9be9c738d7ec"
      },
      "source": [
        "### 3.1 Scaling\n",
        "\n",
        "Logistic Regression은 학습하기에 앞서 학습시킬 데이터를 정규화해야 합니다.  \n",
        "Logistic Regressiond에는 exp가 있는데, exp는 값이 클 경우 overflow가 일어날 수 있기 때문입니다."
      ],
      "id": "5f63b875-e6cd-4fad-a946-9be9c738d7ec"
    },
    {
      "cell_type": "code",
      "metadata": {
        "id": "c085df86-85f2-4c33-ab4f-8fe5c154bba6"
      },
      "source": [
        "from sklearn.preprocessing import StandardScaler\n",
        "\n",
        "scaler = StandardScaler()"
      ],
      "id": "c085df86-85f2-4c33-ab4f-8fe5c154bba6",
      "execution_count": null,
      "outputs": []
    },
    {
      "cell_type": "markdown",
      "metadata": {
        "id": "238e9e80-9523-470f-8a57-ee314afbf6d5"
      },
      "source": [
        "정규화는 항상 train data를 이용해 학습하고 valid, test 데이터를 변환해야 합니다.  \n",
        "모든 데이터를 한번에 학습할 경우 본 적이 없는 valid data의 평균과 분산이 반영되고 이는 overfitting을 일으키는 원인이 됩니다.  "
      ],
      "id": "238e9e80-9523-470f-8a57-ee314afbf6d5"
    },
    {
      "cell_type": "code",
      "metadata": {
        "colab": {
          "base_uri": "https://localhost:8080/"
        },
        "id": "c8fb9b95-45c2-4014-94da-5c5a00830cf4",
        "outputId": "1ed959c3-5a2a-423e-bd77-d655acd40916"
      },
      "source": [
        "scaler.fit(train_data)"
      ],
      "id": "c8fb9b95-45c2-4014-94da-5c5a00830cf4",
      "execution_count": null,
      "outputs": [
        {
          "output_type": "execute_result",
          "data": {
            "text/plain": [
              "StandardScaler(copy=True, with_mean=True, with_std=True)"
            ]
          },
          "metadata": {},
          "execution_count": 91
        }
      ]
    },
    {
      "cell_type": "markdown",
      "metadata": {
        "id": "e9c719bd-c64f-492f-849c-2eb5a98af1c9"
      },
      "source": [
        "학습된 scaler로 train/ test 데이터를 변환합니다."
      ],
      "id": "e9c719bd-c64f-492f-849c-2eb5a98af1c9"
    },
    {
      "cell_type": "code",
      "metadata": {
        "id": "7426d986-1711-466e-9148-efa7bdf4e099"
      },
      "source": [
        "scaled_train_data = scaler.transform(train_data)\n",
        "scaled_test_data = scaler.transform(test_data)"
      ],
      "id": "7426d986-1711-466e-9148-efa7bdf4e099",
      "execution_count": null,
      "outputs": []
    },
    {
      "cell_type": "code",
      "metadata": {
        "colab": {
          "base_uri": "https://localhost:8080/"
        },
        "id": "2a7048b1-8a9e-445c-9d9a-6a41772e5b0d",
        "outputId": "14fb09d3-4644-497b-99c8-b5fa5e218bdb"
      },
      "source": [
        "train_data[0]"
      ],
      "id": "2a7048b1-8a9e-445c-9d9a-6a41772e5b0d",
      "execution_count": null,
      "outputs": [
        {
          "output_type": "execute_result",
          "data": {
            "text/plain": [
              "array([1.130e+01, 1.819e+01, 7.393e+01, 3.894e+02, 9.592e-02, 1.325e-01,\n",
              "       1.548e-01, 2.854e-02, 2.054e-01, 7.669e-02, 2.428e-01, 1.642e+00,\n",
              "       2.369e+00, 1.639e+01, 6.663e-03, 5.914e-02, 8.880e-02, 1.314e-02,\n",
              "       1.995e-02, 8.675e-03, 1.258e+01, 2.796e+01, 8.716e+01, 4.729e+02,\n",
              "       1.347e-01, 4.848e-01, 7.436e-01, 1.218e-01, 3.308e-01, 1.297e-01])"
            ]
          },
          "metadata": {},
          "execution_count": 93
        }
      ]
    },
    {
      "cell_type": "code",
      "metadata": {
        "colab": {
          "base_uri": "https://localhost:8080/"
        },
        "id": "3aa286ee-fba2-4b12-a0b2-3189f23a60b2",
        "outputId": "642199b4-f210-4ed2-a627-dfb15c41c21f"
      },
      "source": [
        "scaled_train_data[0]"
      ],
      "id": "3aa286ee-fba2-4b12-a0b2-3189f23a60b2",
      "execution_count": null,
      "outputs": [
        {
          "output_type": "execute_result",
          "data": {
            "text/plain": [
              "array([-0.77241528, -0.25350148, -0.71766034, -0.72713135, -0.05609214,\n",
              "        0.52832818,  0.80418063, -0.54281688,  0.8826752 ,  1.92363784,\n",
              "       -0.56190665,  0.82998234, -0.22721273, -0.4934605 , -0.1485608 ,\n",
              "        1.83202549,  1.75089411,  0.22238033, -0.03320069,  1.67142344,\n",
              "       -0.74402208,  0.36363441, -0.58496884, -0.70201562,  0.06028267,\n",
              "        1.48259627,  2.23558836,  0.09272995,  0.71316397,  2.55107451])"
            ]
          },
          "metadata": {},
          "execution_count": 94
        }
      ]
    },
    {
      "cell_type": "markdown",
      "metadata": {
        "id": "76cfd7db-0e9c-429f-8011-c235c819c4fd"
      },
      "source": [
        "### 3.2 학습\n",
        "\n",
        "이제 표준화된 데이터로 Logistic Regression을 학습해 보겠습니다."
      ],
      "id": "76cfd7db-0e9c-429f-8011-c235c819c4fd"
    },
    {
      "cell_type": "code",
      "metadata": {
        "id": "d94265d2-a787-4f72-8447-1d71362057f5"
      },
      "source": [
        "from sklearn.linear_model import LogisticRegression\n",
        "\n",
        "logit_regressor = LogisticRegression()"
      ],
      "id": "d94265d2-a787-4f72-8447-1d71362057f5",
      "execution_count": null,
      "outputs": []
    },
    {
      "cell_type": "code",
      "metadata": {
        "colab": {
          "base_uri": "https://localhost:8080/"
        },
        "id": "ba3d537b-01a8-4365-9ed3-2f3c515c4cee",
        "outputId": "0720b838-e10b-4997-afc4-120f804685fa"
      },
      "source": [
        "logit_regressor.fit(scaled_train_data, train_target)"
      ],
      "id": "ba3d537b-01a8-4365-9ed3-2f3c515c4cee",
      "execution_count": null,
      "outputs": [
        {
          "output_type": "execute_result",
          "data": {
            "text/plain": [
              "LogisticRegression(C=1.0, class_weight=None, dual=False, fit_intercept=True,\n",
              "                   intercept_scaling=1, l1_ratio=None, max_iter=100,\n",
              "                   multi_class='auto', n_jobs=None, penalty='l2',\n",
              "                   random_state=None, solver='lbfgs', tol=0.0001, verbose=0,\n",
              "                   warm_start=False)"
            ]
          },
          "metadata": {},
          "execution_count": 96
        }
      ]
    },
    {
      "cell_type": "markdown",
      "metadata": {
        "id": "53e6ae01-efd0-4f2e-bc0c-2d11bc0b6524"
      },
      "source": [
        "### 3.3 예측\n",
        "\n",
        "Classification 을 하는 모델의 경우 예측을 하는 방법은 두 가지가 있습니다.\n",
        "1. `predict`\n",
        "2. `predict_proba`\n",
        "\n",
        "`predict`는 해당 데이터가 어떤 class로 분류할지 바로 알려줍니다.  \n",
        "반면, `predict_proba`는 각 class에 속할 확률을 보여줍니다."
      ],
      "id": "53e6ae01-efd0-4f2e-bc0c-2d11bc0b6524"
    },
    {
      "cell_type": "code",
      "metadata": {
        "id": "2a5c17e3-a01c-426b-a8a1-4f1570317d90"
      },
      "source": [
        "train_pred = logit_regressor.predict(scaled_train_data)\n",
        "test_pred = logit_regressor.predict(scaled_test_data)"
      ],
      "id": "2a5c17e3-a01c-426b-a8a1-4f1570317d90",
      "execution_count": null,
      "outputs": []
    },
    {
      "cell_type": "code",
      "metadata": {
        "colab": {
          "base_uri": "https://localhost:8080/"
        },
        "id": "a096ef7c-1ba3-4796-a77d-29b9bcb7d996",
        "outputId": "6c74f9b4-9bcf-4902-f607-778ce88d4aa6"
      },
      "source": [
        "train_pred[:10]"
      ],
      "id": "a096ef7c-1ba3-4796-a77d-29b9bcb7d996",
      "execution_count": null,
      "outputs": [
        {
          "output_type": "execute_result",
          "data": {
            "text/plain": [
              "array([1, 0, 1, 1, 1, 0, 1, 0, 1, 1])"
            ]
          },
          "metadata": {},
          "execution_count": 98
        }
      ]
    },
    {
      "cell_type": "code",
      "metadata": {
        "id": "793aeef1-0374-4580-ab53-f697bbc5114f"
      },
      "source": [
        "train_pred_logit = logit_regressor.predict_proba(scaled_train_data)\n",
        "test_pred_logit = logit_regressor.predict_proba(scaled_test_data)"
      ],
      "id": "793aeef1-0374-4580-ab53-f697bbc5114f",
      "execution_count": null,
      "outputs": []
    },
    {
      "cell_type": "code",
      "metadata": {
        "colab": {
          "base_uri": "https://localhost:8080/"
        },
        "id": "25d13cd6-3648-4b9e-97f8-73bf4fcfd81a",
        "outputId": "bfe8adbc-3969-43c2-fedf-822eed168d0b"
      },
      "source": [
        "train_pred_logit[:10]"
      ],
      "id": "25d13cd6-3648-4b9e-97f8-73bf4fcfd81a",
      "execution_count": null,
      "outputs": [
        {
          "output_type": "execute_result",
          "data": {
            "text/plain": [
              "array([[9.77486880e-03, 9.90225131e-01],\n",
              "       [9.99999999e-01, 1.10444571e-09],\n",
              "       [2.00315051e-02, 9.79968495e-01],\n",
              "       [1.74273407e-06, 9.99998257e-01],\n",
              "       [4.94023919e-04, 9.99505976e-01],\n",
              "       [9.99999933e-01, 6.70359495e-08],\n",
              "       [2.92533805e-04, 9.99707466e-01],\n",
              "       [8.26176477e-01, 1.73823523e-01],\n",
              "       [1.33303137e-04, 9.99866697e-01],\n",
              "       [5.72177528e-05, 9.99942782e-01]])"
            ]
          },
          "metadata": {},
          "execution_count": 100
        }
      ]
    },
    {
      "cell_type": "markdown",
      "metadata": {
        "id": "57933135-3343-4102-9d9a-2c7be77f032a"
      },
      "source": [
        "각 class에 속할 확률은 다음과 같습니다.  \n",
        "현재 데이터의 경우 양성과 음성 2개의 클래스가 있기 때문에 2개의 확률이 나타납니다.    \n",
        "만약 첫 번째 class에 속할 확률이 크다면 데이터는 0번 클래스에 속하게 됩니다."
      ],
      "id": "57933135-3343-4102-9d9a-2c7be77f032a"
    },
    {
      "cell_type": "code",
      "metadata": {
        "colab": {
          "base_uri": "https://localhost:8080/"
        },
        "id": "3a85dcc9-4870-409f-8f46-032cde541054",
        "outputId": "fa6ce5a3-dd8a-411e-c34b-adecffcc6f0a"
      },
      "source": [
        "train_pred_logit[0]"
      ],
      "id": "3a85dcc9-4870-409f-8f46-032cde541054",
      "execution_count": null,
      "outputs": [
        {
          "output_type": "execute_result",
          "data": {
            "text/plain": [
              "array([0.00977487, 0.99022513])"
            ]
          },
          "metadata": {},
          "execution_count": 101
        }
      ]
    },
    {
      "cell_type": "markdown",
      "metadata": {
        "id": "b6b168bc-2840-4d86-a96b-eaf080a4f58a"
      },
      "source": [
        "### 3.4 평가"
      ],
      "id": "b6b168bc-2840-4d86-a96b-eaf080a4f58a"
    },
    {
      "cell_type": "markdown",
      "metadata": {
        "id": "6620bb4a-b95c-4273-9b0b-c663c60c5681"
      },
      "source": [
        "데이터의 AUROC를 계산하기 위해서는 1의 클래스로 분류될 확률 하나만 필요합니다.   \n",
        "반면 우리가 갖고 있는 예측값은 0과 1로 분류될 확률을 모두 표시하고 있습니다.  \n",
        "그래서 1에 속할 확률만 남기겠습니다."
      ],
      "id": "6620bb4a-b95c-4273-9b0b-c663c60c5681"
    },
    {
      "cell_type": "code",
      "metadata": {
        "id": "edf34dab-beb4-49c5-8ae9-4fc83688bddb"
      },
      "source": [
        "train_pred_logit = train_pred_logit[:, 1]\n",
        "test_pred_logit = test_pred_logit[:, 1]"
      ],
      "id": "edf34dab-beb4-49c5-8ae9-4fc83688bddb",
      "execution_count": null,
      "outputs": []
    },
    {
      "cell_type": "code",
      "metadata": {
        "colab": {
          "base_uri": "https://localhost:8080/"
        },
        "id": "qaN3AgN7FhVB",
        "outputId": "70ed64fb-9255-41d3-88a7-bf360b25a7b0"
      },
      "source": [
        "train_pred_logit[0]"
      ],
      "id": "qaN3AgN7FhVB",
      "execution_count": null,
      "outputs": [
        {
          "output_type": "execute_result",
          "data": {
            "text/plain": [
              "0.9902251312004176"
            ]
          },
          "metadata": {},
          "execution_count": 103
        }
      ]
    },
    {
      "cell_type": "code",
      "metadata": {
        "id": "799cbecc-05b7-4c81-b3cf-7989290d84f2"
      },
      "source": [
        "from sklearn.metrics import auc, roc_curve\n",
        "\n",
        "fpr, tpr, threshold = roc_curve(train_target, train_pred_logit)\n",
        "auroc = auc(fpr, tpr)"
      ],
      "id": "799cbecc-05b7-4c81-b3cf-7989290d84f2",
      "execution_count": null,
      "outputs": []
    },
    {
      "cell_type": "code",
      "metadata": {
        "colab": {
          "base_uri": "https://localhost:8080/",
          "height": 296
        },
        "id": "0411e257-2a18-4e1b-ba66-be24ac81d7e7",
        "outputId": "1141bb2c-14a0-4cc2-dbc9-9611830d475b"
      },
      "source": [
        "plt.plot(fpr, tpr)\n",
        "plt.xlabel(\"fpr\")\n",
        "plt.ylabel(\"tpr\")"
      ],
      "id": "0411e257-2a18-4e1b-ba66-be24ac81d7e7",
      "execution_count": null,
      "outputs": [
        {
          "output_type": "execute_result",
          "data": {
            "text/plain": [
              "Text(0, 0.5, 'tpr')"
            ]
          },
          "metadata": {},
          "execution_count": 107
        },
        {
          "output_type": "display_data",
          "data": {
            "image/png": "[encoded data removed]",
            "text/plain": [
              "<Figure size 432x288 with 1 Axes>"
            ]
          },
          "metadata": {
            "needs_background": "light"
          }
        }
      ]
    },
    {
      "cell_type": "code",
      "metadata": {
        "colab": {
          "base_uri": "https://localhost:8080/"
        },
        "id": "ac1e7ce9-42d0-4329-886d-2953c4232bea",
        "outputId": "cda3482e-a507-4927-b8a0-394c4d558098"
      },
      "source": [
        "print(f\"AUROC : {auroc:.4f}\")"
      ],
      "id": "ac1e7ce9-42d0-4329-886d-2953c4232bea",
      "execution_count": null,
      "outputs": [
        {
          "output_type": "stream",
          "name": "stdout",
          "text": [
            "AUROC : 0.9994\n"
          ]
        }
      ]
    },
    {
      "cell_type": "code",
      "metadata": {
        "colab": {
          "base_uri": "https://localhost:8080/"
        },
        "id": "0eff737e-fa23-43b2-838b-5b449bee02b3",
        "outputId": "198e9dc0-ae74-49f5-d4ba-42bff493d60b"
      },
      "source": [
        "J = tpr - fpr\n",
        "idx = np.argmax(J)\n",
        "best_thresh = threshold[idx]\n",
        "\n",
        "print(f\"Best Threshold is {best_thresh:.4f}\")\n",
        "print(f\"Best Threshold's sensitivity is {tpr[idx]:.4f}\")\n",
        "print(f\"Best Threshold's specificity is {1-fpr[idx]:.4f}\")\n",
        "print(f\"Best Threshold's J is {J[idx]:.4f}\")"
      ],
      "id": "0eff737e-fa23-43b2-838b-5b449bee02b3",
      "execution_count": null,
      "outputs": [
        {
          "output_type": "stream",
          "name": "stdout",
          "text": [
            "Best Threshold is 0.4433\n",
            "Best Threshold's sensitivity is 1.0000\n",
            "Best Threshold's specificity is 0.9865\n",
            "Best Threshold's J is 0.9865\n"
          ]
        }
      ]
    },
    {
      "cell_type": "code",
      "metadata": {
        "colab": {
          "base_uri": "https://localhost:8080/",
          "height": 296
        },
        "id": "3684a75c-a014-44e0-bcbe-0554a976f45d",
        "outputId": "420719d4-5e58-4025-e6e2-8d3256c661f1"
      },
      "source": [
        "plt.plot(fpr, tpr)\n",
        "plt.plot(np.linspace(0, 1, 10), np.linspace(0, 1, 10))\n",
        "plt.plot((fpr[idx],fpr[idx]), (fpr[idx], tpr[idx]), color=\"red\", linestyle=\"--\")\n",
        "plt.xlabel(\"fpr\")\n",
        "plt.ylabel(\"tpr\")"
      ],
      "id": "3684a75c-a014-44e0-bcbe-0554a976f45d",
      "execution_count": null,
      "outputs": [
        {
          "output_type": "execute_result",
          "data": {
            "text/plain": [
              "Text(0, 0.5, 'tpr')"
            ]
          },
          "metadata": {},
          "execution_count": 111
        },
        {
          "output_type": "display_data",
          "data": {
            "image/png": "[encoded data removed]",
            "text/plain": [
              "<Figure size 432x288 with 1 Axes>"
            ]
          },
          "metadata": {
            "needs_background": "light"
          }
        }
      ]
    },
    {
      "cell_type": "code",
      "metadata": {
        "colab": {
          "base_uri": "https://localhost:8080/",
          "height": 296
        },
        "id": "abf2c58b-97d6-45f4-bc7e-c6bec0a49612",
        "outputId": "3f92c403-334b-4ad6-c7a8-454f81153c96"
      },
      "source": [
        "plt.scatter(x=scaled_train_data[:,0], y=train_pred_logit)\n",
        "plt.axhline(best_thresh, color=\"blue\")\n",
        "plt.axhline(0, color=\"red\", linestyle=\"--\")\n",
        "plt.axhline(1, color=\"red\", linestyle=\"--\")\n",
        "plt.xlabel(\"mean radius\")\n",
        "plt.ylabel(\"Probability\")"
      ],
      "id": "abf2c58b-97d6-45f4-bc7e-c6bec0a49612",
      "execution_count": null,
      "outputs": [
        {
          "output_type": "execute_result",
          "data": {
            "text/plain": [
              "Text(0, 0.5, 'Probability')"
            ]
          },
          "metadata": {},
          "execution_count": 112
        },
        {
          "output_type": "display_data",
          "data": {
            "image/png": "[encoded data removed]",
            "text/plain": [
              "<Figure size 432x288 with 1 Axes>"
            ]
          },
          "metadata": {
            "needs_background": "light"
          }
        }
      ]
    },
    {
      "cell_type": "markdown",
      "metadata": {
        "id": "ea3a816a-4dc7-49be-bd9f-dced242cd49c"
      },
      "source": [
        "이제 Threshold로 예측값을 0,1로 변환 후 정확도를 보겠습니다."
      ],
      "id": "ea3a816a-4dc7-49be-bd9f-dced242cd49c"
    },
    {
      "cell_type": "code",
      "metadata": {
        "id": "7e25046e-fafb-4336-98c6-08c13e48d384"
      },
      "source": [
        "train_pred_label = list(map(int, (train_pred_logit > best_thresh)))\n",
        "test_pred_label = list(map(int, (test_pred_logit > best_thresh)))"
      ],
      "id": "7e25046e-fafb-4336-98c6-08c13e48d384",
      "execution_count": null,
      "outputs": []
    },
    {
      "cell_type": "code",
      "metadata": {
        "id": "6bd5e018-2b42-40ff-b76f-5ec073cefd11"
      },
      "source": [
        "proba_train_accuracy = accuracy_score(train_target, train_pred_label)\n",
        "proba_test_accuracy = accuracy_score(test_target, test_pred_label)"
      ],
      "id": "6bd5e018-2b42-40ff-b76f-5ec073cefd11",
      "execution_count": null,
      "outputs": []
    },
    {
      "cell_type": "code",
      "metadata": {
        "colab": {
          "base_uri": "https://localhost:8080/"
        },
        "id": "d339853c-df39-4781-b666-e80c66e2a900",
        "outputId": "3e57e0d3-c3b2-41c4-b114-5a91b4e15419"
      },
      "source": [
        "print(f\"Train accuracy is : {proba_train_accuracy:.2f}\")\n",
        "print(f\"Test accuracy is : {proba_test_accuracy:.2f}\")"
      ],
      "id": "d339853c-df39-4781-b666-e80c66e2a900",
      "execution_count": null,
      "outputs": [
        {
          "output_type": "stream",
          "name": "stdout",
          "text": [
            "Train accuracy is : 0.99\n",
            "Test accuracy is : 0.96\n"
          ]
        }
      ]
    },
    {
      "cell_type": "markdown",
      "metadata": {
        "id": "ce1b94ff-247b-4afb-8219-267e55f7f975"
      },
      "source": [
        "이번에는 `predict` 의 결과값으로 정확도를 보겠습니다."
      ],
      "id": "ce1b94ff-247b-4afb-8219-267e55f7f975"
    },
    {
      "cell_type": "code",
      "metadata": {
        "id": "11cec61f-e65b-44ef-8028-cea84ff71e48"
      },
      "source": [
        "train_accuracy = accuracy_score(train_target, train_pred)\n",
        "test_accuracy = accuracy_score(test_target, test_pred)"
      ],
      "id": "11cec61f-e65b-44ef-8028-cea84ff71e48",
      "execution_count": null,
      "outputs": []
    },
    {
      "cell_type": "code",
      "metadata": {
        "colab": {
          "base_uri": "https://localhost:8080/"
        },
        "id": "86486e9c-4cfc-4f5f-a981-1a1817e947fd",
        "outputId": "01372603-a35a-4c05-aa9a-3c9bed8a2690"
      },
      "source": [
        "print(f\"Train accuracy is : {train_accuracy:.2f}\")\n",
        "print(f\"Test accuracy is : {test_accuracy:.2f}\")"
      ],
      "id": "86486e9c-4cfc-4f5f-a981-1a1817e947fd",
      "execution_count": null,
      "outputs": [
        {
          "output_type": "stream",
          "name": "stdout",
          "text": [
            "Train accuracy is : 0.99\n",
            "Test accuracy is : 0.97\n"
          ]
        }
      ]
    },
    {
      "cell_type": "markdown",
      "metadata": {
        "id": "ca3d78e9-4d92-436f-aa51-1cbbe13454b0"
      },
      "source": [
        "`predict_proba`의 best_threshold로 계산한 결과와 `predict`로 계산한 결과가 다릅니다.  \n",
        "이는 두 0과 1로 예측하는 방법이 다르기 때문입니다.  \n",
        "예를 들어서 (0.49, 0.51)의 확률이 있을 때 `predict`의 경우 class 1의 확률에 속할 확률이 크기 때문에 1로 분류합니다.  \n",
        "하지만 best_threshold가 0.52라면 `predict_proba`의 경우 class를 0으로 분류하게 됩니다.  "
      ],
      "id": "ca3d78e9-4d92-436f-aa51-1cbbe13454b0"
    },
    {
      "cell_type": "markdown",
      "metadata": {
        "id": "c25a36c9-5561-4e5e-a4aa-f08df57a5981"
      },
      "source": [
        "## 4. 마무리"
      ],
      "id": "c25a36c9-5561-4e5e-a4aa-f08df57a5981"
    },
    {
      "cell_type": "markdown",
      "metadata": {
        "id": "131e07bf-c6f1-4053-b1e7-49cc6d8bef6f"
      },
      "source": [
        "세개의 모델들의 정확도를 비교해 보겠습니다."
      ],
      "id": "131e07bf-c6f1-4053-b1e7-49cc6d8bef6f"
    },
    {
      "cell_type": "code",
      "metadata": {
        "colab": {
          "base_uri": "https://localhost:8080/"
        },
        "id": "2eec1515-2a72-4dae-a291-45f09a9527ac",
        "outputId": "0c3998f8-f1bc-44ac-9192-0fb616604997"
      },
      "source": [
        "print(f\"Linear Regression Test Accuracy: {linear_test_accuracy:.2f}\")\n",
        "print(f\"Logistic Regression predict_proba Test Accuracy: {proba_test_accuracy:.2f}\")\n",
        "print(f\"Logistic Regression predict Test Accuracy: {test_accuracy:.2f}\")"
      ],
      "id": "2eec1515-2a72-4dae-a291-45f09a9527ac",
      "execution_count": null,
      "outputs": [
        {
          "output_type": "stream",
          "name": "stdout",
          "text": [
            "Linear Regression Test Accuracy: 0.96\n",
            "Logistic Regression predict_proba Test Accuracy: 0.96\n",
            "Logistic Regression predict Test Accuracy: 0.97\n"
          ]
        }
      ]
    },
    {
      "cell_type": "code",
      "metadata": {
        "id": "IMMjCERHGCQD"
      },
      "source": [
        ""
      ],
      "id": "IMMjCERHGCQD",
      "execution_count": null,
      "outputs": []
    }
  ]
}